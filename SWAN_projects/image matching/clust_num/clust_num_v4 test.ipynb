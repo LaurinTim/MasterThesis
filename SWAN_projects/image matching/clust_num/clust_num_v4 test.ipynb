{
 "cells": [
  {
   "cell_type": "code",
   "execution_count": 1,
   "id": "4cc6d46f",
   "metadata": {},
   "outputs": [],
   "source": [
    "import sys\n",
    "sys.path.append('/eos/home-i00/l/lkoller/SWAN_projects/commands/Lya_commands')\n",
    "\n",
    "from Ltif import Lpicday, Lpic\n",
    "from sklearn import datasets, metrics, svm\n",
    "import numpy as np\n",
    "import matplotlib.pyplot as plt\n",
    "from sklearn.model_selection import train_test_split\n",
    "from joblib import dump, load"
   ]
  },
  {
   "cell_type": "code",
   "execution_count": 3,
   "id": "321dd23f",
   "metadata": {},
   "outputs": [
    {
     "name": "stderr",
     "output_type": "stream",
     "text": [
      "100%|██████████| 205/205 [00:22<00:00,  9.18it/s]\n"
     ]
    }
   ],
   "source": [
    "df = Lpicday('23_12_07').clusters_day(min_size = 80)\n",
    "cl = [val for bal in list(df['cluster']) for val in bal if len(val) > 0]"
   ]
  },
  {
   "cell_type": "code",
   "execution_count": 12,
   "id": "1fd70782",
   "metadata": {},
   "outputs": [
    {
     "data": {
      "text/plain": [
       "715"
      ]
     },
     "execution_count": 12,
     "metadata": {},
     "output_type": "execute_result"
    }
   ],
   "source": [
    "len(cl)"
   ]
  },
  {
   "cell_type": "code",
   "execution_count": null,
   "id": "ff7d61d5",
   "metadata": {},
   "outputs": [],
   "source": [
    "rows, cols = 36, 20\n",
    "\n",
    "_, axes = plt.subplots(nrows = rows, ncols = cols, figsize = (50,120))\n",
    "\n",
    "\n",
    "for i in range(rows):\n",
    "    for ax, image, label in zip(axes[i], cl[cols * i:], list(range(0,len(cl)))[cols * i:]):\n",
    "        ax.set_axis_off()\n",
    "        ax.imshow(image, interpolation = 'nearest')\n",
    "        ax.set_title('Cluster index: %i' % label)"
   ]
  },
  {
   "cell_type": "code",
   "execution_count": 4,
   "id": "16adfbca",
   "metadata": {},
   "outputs": [],
   "source": [
    "target = np.array([1,1,1,1,1,1,2,2,1,1,1,1,1,2,1,1,1,1,1,1,1,1,1,1,1,1,1,1,2,1,1,1,2,1,1,1,1,2,3,2,\n",
    "                  1,1,1,2,1,1,1,1,1,1,1,1,1,1,1,1,1,1,1,1,1,1,1,1,1,1,1,2,1,1,2,1,1,1,1,1,2,1,1,1,\n",
    "                  1,1,1,4,1,2,1,1,1,1,1,1,1,1,1,1,1,1,2,2,1,1,1,2,1,1,1,2,1,1,2,1,1,1,1,1,1,1,1,1,\n",
    "                  1,1,1,1,1,2,1,1,2,1,1,2,1,1,2,2,1,1,1,1,2,1,1,1,1,1,1,1,1,1,1,2,1,1,1,1,2,2,2,1,\n",
    "                  1,1,1,2,2,1,1,1,1,1,2,1,2,1,1,2,1,1,1,1,1,1,1,1,2,2,2,1,1,1,2,1,2,1,2,1,1,1,1,2,\n",
    "                  2,1,2,1,1,2,1,1,1,1,1,1,1,1,1,1,1,1,1,1,2,1,1,1,2,2,1,1,2,1,1,2,1,1,1,1,1,2,2,1,\n",
    "                  1,2,1,1,1,1,1,1,1,1,1,1,2,1,1,1,1,1,1,1,1,1,1,1,1,1,1,1,1,1,1,1,1,1,1,1,2,1,1,1,\n",
    "                  1,1,1,1,1,1,1,1,1,1,1,1,1,1,1,1,1,2,1,1,1,1,1,1,2,1,1,2,1,1,1,1,1,2,2,1,1,3,1,2,\n",
    "                  1,1,2,1,1,1,2,1,1,1,1,1,1,1,1,1,1,1,2,1,1,2,1,2,1,1,2,1,1,1,1,1,1,1,1,1,2,1,1,1,\n",
    "                  1,2,1,1,1,1,1,1,1,2,1,1,1,1,1,1,1,1,1,1,1,1,1,1,1,1,1,1,1,2,1,1,1,1,1,1,1,1,1,1,\n",
    "                  1,1,1,2,1,1,1,1,1,1,1,1,1,1,1,1,1,1,1,1,1,1,1,1,1,1,1,1,1,2,1,1,1,2,1,2,1,1,1,1,\n",
    "                  1,1,1,1,1,1,2,1,1,1,1,1,1,1,1,1,1,2,1,2,1,1,1,1,1,1,1,1,3,2,1,1,1,1,1,1,1,1,1,1,\n",
    "                  1,1,2,1,1,1,1,1,2,3,1,1,1,1,1,1,2,1,1,2,1,2,1,2,1,1,1,1,1,1,2,1,1,1,1,1,1,2,1,1,\n",
    "                  1,1,1,1,1,1,1,1,1,1,2,1,1,1,1,1,1,1,1,1,1,1,1,1,1,2,1,1,1,1,1,1,1,1,1,1,1,1,1,1,\n",
    "                  1,1,1,1,1,1,2,1,1,1,1,1,1,1,2,1,1,1,1,1,1,2,2,1,1,1,1,1,1,1,1,1,1,1,1,1,1,1,1,1,\n",
    "                  1,1,1,1,1,1,1,1,1,2,1,1,1,1,2,1,1,1,1,1,2,1,1,1,2,1,1,1,1,1,1,2,1,1,2,1,1,1,1,1,\n",
    "                  1,1,1,2,1,1,1,1,1,1,1,1,1,1,1,1,1,1,1,1,1,1,1,1,2,1,1,1,1,1,1,1,1,1,3,2,1,1,1,1,\n",
    "                  1,1,1,1,1,2,1,1,2,1,1,1,1,1,1,1,1,1,1,1,2,1,1,1,1,1,1,1,1,1,1,1,2,1,1,])\n",
    "\n",
    "target = [val if val < 3 else 2 for val in target]"
   ]
  },
  {
   "cell_type": "code",
   "execution_count": 5,
   "id": "f54a70aa",
   "metadata": {},
   "outputs": [],
   "source": [
    "cl = [val for bal in list(df['cluster']) for val in bal if len(val) > 0]\n",
    "\n",
    "max_h, max_w = 53, 42\n",
    "\n",
    "for item in [val for bal in cl for val in bal]:\n",
    "    while len(item) < max_w:\n",
    "        item += [0]\n",
    "\n",
    "for item in cl:\n",
    "    while len(item) < max_h:\n",
    "        item += [[0] * max_w]\n",
    "        \n",
    "ac = np.array(cl)\n",
    "\n",
    "data = ac.reshape(len(cl), -1)"
   ]
  },
  {
   "cell_type": "code",
   "execution_count": 17,
   "id": "0be153a7",
   "metadata": {},
   "outputs": [],
   "source": [
    "clf = load('/eos/user/l/lkoller/ML models/clust_num_v5.txt')"
   ]
  },
  {
   "cell_type": "code",
   "execution_count": 9,
   "id": "e7bb88f9",
   "metadata": {},
   "outputs": [],
   "source": [
    "predicted = clf.predict(data)"
   ]
  },
  {
   "cell_type": "code",
   "execution_count": 12,
   "id": "c1d6d743",
   "metadata": {},
   "outputs": [
    {
     "name": "stdout",
     "output_type": "stream",
     "text": [
      "Classification report for classifier SVC(probability=True):\n",
      "              precision    recall  f1-score   support\n",
      "\n",
      "           1       0.97      1.00      0.98       606\n",
      "           2       0.98      0.83      0.90       109\n",
      "\n",
      "    accuracy                           0.97       715\n",
      "   macro avg       0.97      0.92      0.94       715\n",
      "weighted avg       0.97      0.97      0.97       715\n",
      "\n",
      "\n"
     ]
    }
   ],
   "source": [
    "print(\n",
    "    f\"Classification report for classifier {clf}:\\n\"\n",
    "    f\"{metrics.classification_report(target, predicted)}\\n\"\n",
    ")"
   ]
  },
  {
   "cell_type": "code",
   "execution_count": 18,
   "id": "eccc9c34",
   "metadata": {},
   "outputs": [
    {
     "data": {
      "text/plain": [
       "0.972027972027972"
      ]
     },
     "execution_count": 18,
     "metadata": {},
     "output_type": "execute_result"
    }
   ],
   "source": [
    "clf.score(data,target)"
   ]
  },
  {
   "cell_type": "code",
   "execution_count": 81,
   "id": "8e87d0d6",
   "metadata": {},
   "outputs": [
    {
     "data": {
      "text/plain": [
       "array([[1.01605281e-05, 9.99989839e-01]])"
      ]
     },
     "execution_count": 81,
     "metadata": {},
     "output_type": "execute_result"
    }
   ],
   "source": [
    "clf.predict_proba([data[ind[17]]])\n"
   ]
  },
  {
   "cell_type": "code",
   "execution_count": 14,
   "id": "5bf1aa93",
   "metadata": {
    "scrolled": false
   },
   "outputs": [
    {
     "data": {
      "text/plain": [
       "20"
      ]
     },
     "execution_count": 14,
     "metadata": {},
     "output_type": "execute_result"
    }
   ],
   "source": [
    "ind = [val[0] for val in list(enumerate(predicted == target)) if val[1] == False]\n",
    "len(ind)\n",
    "#for i in ind:\n",
    "#    plt.figure(figsize = (10,10))\n",
    "#    plt.imshow(cl[i])\n",
    "#    plt.title('predicted %i' % predicted[i])"
   ]
  },
  {
   "cell_type": "code",
   "execution_count": 101,
   "id": "6fc01cba",
   "metadata": {},
   "outputs": [
    {
     "name": "stdout",
     "output_type": "stream",
     "text": [
      "predicted 1\n",
      "actual 2\n",
      "[-0.82296841]\n"
     ]
    },
    {
     "data": {
      "text/plain": [
       "297"
      ]
     },
     "execution_count": 101,
     "metadata": {},
     "output_type": "execute_result"
    },
    {
     "data": {
      "image/png": "[encoded data removed]",
      "text/plain": [
       "<Figure size 432x288 with 1 Axes>"
      ]
     },
     "metadata": {
      "needs_background": "light"
     },
     "output_type": "display_data"
    }
   ],
   "source": [
    "i = ind[17]\n",
    "\n",
    "print('predicted %i' % predicted[i])\n",
    "print('actual %i' % target[i])\n",
    "print(clf.decision_function([data[i]]))\n",
    "plt.imshow(cl[i])\n",
    "\n",
    "ind[15]"
   ]
  },
  {
   "cell_type": "code",
   "execution_count": 102,
   "id": "12ede39c",
   "metadata": {},
   "outputs": [
    {
     "data": {
      "text/plain": [
       "1"
      ]
     },
     "execution_count": 102,
     "metadata": {},
     "output_type": "execute_result"
    }
   ],
   "source": [
    "target[307]"
   ]
  },
  {
   "cell_type": "code",
   "execution_count": 88,
   "id": "1dda48cf",
   "metadata": {},
   "outputs": [
    {
     "data": {
      "text/plain": [
       "array([-1.27389403, -0.8371217 , -1.31266353, -1.18027847, -1.25240342,\n",
       "       -0.94820927, -0.93540775,  1.08787886, -1.02317502, -1.26585387,\n",
       "       -1.46803454, -1.22490814, -1.09378148,  1.0158444 , -1.20954386,\n",
       "       -1.27975946, -1.29670861, -1.20542863, -1.16268575, -1.26054814,\n",
       "       -1.28658723, -1.1714736 , -1.24210911, -1.07295006, -1.22045253,\n",
       "       -1.18649574, -1.27500001, -1.37659779,  0.60235748, -1.13432924,\n",
       "       -1.24973301, -1.32017958,  0.94861693, -1.14140077, -1.44876154,\n",
       "       -1.36335108, -1.11591004,  1.15650581,  1.44138622,  1.76630314,\n",
       "       -0.81905751,  1.36626681, -1.32782625,  1.10933691, -1.35832416,\n",
       "       -0.97057292, -1.3344266 , -1.20730395, -1.03525965, -0.49556301,\n",
       "       -1.2430175 , -1.21356175, -0.8532254 , -1.45725992, -1.47230467,\n",
       "       -0.88325078, -0.49638132, -0.55368931, -1.21806248, -1.19452365,\n",
       "       -1.33296672, -1.203386  , -1.1102212 , -1.03089752, -1.10546176,\n",
       "       -0.46165532, -1.50752627,  1.39713143, -1.20864426, -1.10484622,\n",
       "        1.10269833, -1.06667992, -1.30408997, -1.22147585, -1.2022478 ,\n",
       "       -0.92367654,  0.93193537, -1.26411813, -1.12404955, -1.43803554,\n",
       "       -1.4928811 , -1.06587621, -1.4408458 ,  1.6047362 , -1.16536876,\n",
       "        1.51397351, -1.1614431 , -1.51222468, -0.90401085, -1.25274597,\n",
       "       -1.18878603, -1.41322808, -1.02134055, -1.42088852, -1.47296466,\n",
       "       -1.07414327, -1.26489552, -0.87882194,  0.60776241, -0.22135105,\n",
       "       -1.15884025, -1.38050024, -1.19877846,  0.55733504, -1.18851734,\n",
       "       -1.35092048, -1.31017576,  1.31109936, -1.17219597, -1.23156332,\n",
       "       -0.27583814, -0.78650237, -1.3658243 , -1.20578186, -1.11724423,\n",
       "       -1.14435242, -1.23609518, -1.3102987 , -1.22008329, -1.35274261,\n",
       "       -1.45409898, -1.22032075, -1.13267417, -1.35360102, -1.09239116,\n",
       "        0.16077585, -1.29171467, -1.22243922,  1.06124452, -1.34864286,\n",
       "       -0.94147296, -0.02322756, -1.46523344, -0.99327115,  1.99407556,\n",
       "       -0.1959008 , -1.15102178, -1.29745231, -1.15194761, -1.1040803 ,\n",
       "        1.1934007 , -1.29953368, -0.76741674, -1.41882536, -1.14288606,\n",
       "       -1.30019031, -1.13173037, -1.06190842, -1.3377981 , -1.25637431,\n",
       "       -1.02236855,  2.15674047, -1.42733352, -0.46852931, -1.22103301,\n",
       "       -1.08961281,  0.65867321, -0.54155521,  1.68982991, -0.76022249,\n",
       "       -0.75204269, -1.34500705, -1.02147681,  0.39410903,  1.86405684,\n",
       "       -1.3718726 , -0.84467068, -1.10634412, -1.290424  , -1.31713251,\n",
       "        0.43332201, -1.40738443,  1.07252878, -1.13589503, -1.32708827,\n",
       "        1.36002553, -1.00600681, -0.96497468, -1.27109402, -1.20730749,\n",
       "       -1.32369122, -1.3149184 , -1.26375229, -1.28546879,  1.04765971,\n",
       "        0.87918207,  0.86505077, -1.18980436, -1.32778671, -1.5329523 ,\n",
       "        0.96730218, -1.18738016, -0.62031799, -1.02307415,  0.56104628,\n",
       "       -1.45019922, -0.93420142, -1.2140738 , -1.31905264, -0.50999944,\n",
       "        0.62965603, -1.19311621, -0.65721484, -1.35858376, -1.15569891,\n",
       "        1.43170119, -1.39975244, -0.9650727 , -1.53168708, -1.2157164 ,\n",
       "       -1.4239363 , -1.25995792, -1.42198019, -1.35164682, -1.07382923,\n",
       "       -1.35716878, -1.11017547, -0.87487097, -1.32012223, -1.20223311,\n",
       "        1.20836156, -0.93058935, -1.4504958 , -1.26201989, -0.1591505 ,\n",
       "       -0.43241837, -1.16068228, -1.02767604,  1.67688671, -1.19281551,\n",
       "       -1.30011012,  1.57433636, -1.1822997 , -1.23810621, -1.27124083,\n",
       "       -1.30789553, -1.18756825,  0.23935201, -0.10168223, -1.03507737,\n",
       "       -1.2015481 , -0.27138257, -1.27374173, -1.34200112, -1.38822534,\n",
       "       -1.20717825, -1.21088152, -0.49990801, -1.32200867, -1.3587131 ,\n",
       "       -1.29222788, -1.07985623,  0.64626377, -1.14263647, -0.82347339,\n",
       "       -1.1616439 , -1.0991819 , -1.41868988, -1.10071216, -1.46186543,\n",
       "       -1.39689479, -1.18587297, -1.09620257, -1.17273679, -1.21006218,\n",
       "       -1.42972456, -0.52012858, -1.4292292 , -1.1559172 , -1.32372987,\n",
       "       -1.38684377, -1.34383731, -1.11389451, -1.32656079, -1.0911501 ,\n",
       "       -1.38360214,  0.94008532, -1.2490716 , -1.37761402, -0.78227663,\n",
       "       -1.19395447, -1.26144944, -0.9999805 , -1.25629137, -1.24927662,\n",
       "       -0.91093829, -1.33945354, -1.32740825, -1.30220094, -1.28494912,\n",
       "       -1.34032775, -1.48400175, -1.42089478, -1.12437163, -1.33292953,\n",
       "       -1.35600923, -0.495177  , -0.36746196, -1.23016617, -0.58388341,\n",
       "       -1.11248399, -1.16405459, -1.3154066 , -1.03080499,  1.31133729,\n",
       "       -0.92163819, -1.18646701,  1.97905109, -1.05241917, -1.15375442,\n",
       "       -1.30109891, -1.263946  , -1.31404309,  1.53837386,  0.17613524,\n",
       "       -1.44766258, -1.39468678,  1.95815332, -1.20934957,  0.32456651,\n",
       "       -0.9779599 , -1.17266121,  0.2829342 , -1.17573352, -1.35398703,\n",
       "       -1.25378329,  0.45115903, -1.37362926, -1.15235751, -1.04545281,\n",
       "       -1.06285799, -1.23236945, -1.19410091, -1.29742231, -1.19041451,\n",
       "       -0.88679332, -1.1482052 , -1.3014081 ,  1.43200524, -1.40960175,\n",
       "       -1.25996576, -0.82296841, -1.15372957,  1.44048194, -1.42135833,\n",
       "       -1.23538773,  0.51192873, -1.38913283, -0.99585622, -1.41069894,\n",
       "       -1.31770442, -1.19280382, -1.25406714, -1.2677221 , -1.44953888,\n",
       "       -1.29996287,  1.12892448, -1.20026069, -1.21862865, -1.08935813,\n",
       "       -1.14293434,  1.02059451, -1.18381411, -1.30594625, -0.92521167,\n",
       "       -0.98192018, -1.28327078, -1.15288244, -1.22044212,  0.84674547,\n",
       "       -1.21132971, -1.16905718, -1.21848243, -1.33531276, -1.20419098,\n",
       "       -1.36907548, -1.20093312, -1.30528848, -0.21899739, -1.12014644,\n",
       "       -1.22372324, -1.16109182, -1.39555277, -1.34564133, -0.94727613,\n",
       "       -1.00893667, -1.10048059, -1.21735198, -1.28037725,  0.91777312,\n",
       "       -1.17361356, -1.36715288, -1.18615498, -1.14693375, -1.14733553,\n",
       "       -1.23598886, -1.25655748, -1.07047449, -1.28086164, -1.28336741,\n",
       "       -1.28793157, -1.19354965,  0.80383062,  0.47141139, -1.22591447,\n",
       "       -1.35509148, -1.35980699, -1.22331304, -1.10106614, -1.23313891,\n",
       "       -1.4091045 , -1.15205383, -1.3928972 , -1.13558873, -1.38612951,\n",
       "       -1.21234552, -1.26696818, -1.38379909, -1.26072198, -1.21938195,\n",
       "       -1.2398509 , -1.28575277, -0.90703769, -0.99367983, -1.22332417,\n",
       "       -1.30648879, -1.0519986 , -1.31012878, -0.93736141,  1.66327215,\n",
       "       -1.17261453, -0.84482249, -1.39552364,  1.58491445, -1.1045708 ,\n",
       "       -0.037551  , -1.03457724, -0.91672514, -0.91682959, -1.21730715,\n",
       "       -1.11191149, -0.89781627, -1.32339834, -0.99371725, -1.18618812,\n",
       "       -1.16080789,  0.6916524 , -1.40730305, -0.77417899, -1.19407757,\n",
       "       -1.33722983, -1.26177698, -1.2704287 , -0.39516853, -1.21269059,\n",
       "       -1.18691072, -1.15803967,  0.42732824, -1.22344766,  1.8010844 ,\n",
       "       -1.2705204 , -1.1709723 , -1.14052421, -1.0725326 , -0.88498678,\n",
       "       -1.41658844, -1.48307476, -1.04743299,  1.31096578,  1.38037562,\n",
       "       -1.30794776, -1.32953363, -1.35176577, -1.26757131, -1.44070616,\n",
       "       -1.2157438 , -1.00135769, -0.89402392, -1.21436492, -1.07328067,\n",
       "       -0.79313417, -1.1241684 ,  0.76802834, -0.93594596, -1.38793567,\n",
       "       -1.20586858, -1.36838647, -1.17153542,  0.70433146,  1.44424563,\n",
       "       -1.23823427, -1.26181339, -1.41843043, -0.6799945 , -1.13895817,\n",
       "       -0.73261479,  1.52346931, -0.93391122, -1.2742145 ,  0.25953328,\n",
       "       -1.11156201, -0.65393032, -1.28023482,  0.30522689, -1.32998466,\n",
       "       -1.12707819, -0.4043416 , -1.26875158, -1.27242752, -1.24338397,\n",
       "       -0.04295216, -1.28699699, -1.29133505, -1.04402785, -1.46557024,\n",
       "       -1.05855079, -1.06591955,  1.00647529, -1.42256088, -1.25678018,\n",
       "       -1.19035398, -0.91428351, -1.34312031, -1.14299298, -1.26470611,\n",
       "       -1.23029138, -1.13842108, -1.20788069, -0.55884744, -0.93093454,\n",
       "       -0.5342731 , -0.94918065, -1.10507899, -1.16132302, -1.19502486,\n",
       "       -1.30116589, -1.3560882 , -1.43496784, -1.02791838, -1.179548  ,\n",
       "       -1.20941067, -1.12207929, -1.42357068, -1.32986072, -1.45439105,\n",
       "        0.01890049, -1.23842022, -1.29074963, -1.24598066, -1.40149321,\n",
       "       -1.2755503 , -1.38516226, -1.0414978 , -0.95525033, -1.27926678,\n",
       "       -1.24345903, -0.99977912, -1.30623947, -1.28667045, -0.89882432,\n",
       "       -1.16625025, -1.07347593, -1.17887923, -1.21754099, -1.15968813,\n",
       "       -1.32018363, -0.00230522, -1.19540394, -1.34511525, -1.44107279,\n",
       "       -0.91135219, -0.34869488, -0.84990393, -1.21831841,  1.03915618,\n",
       "       -1.1224131 , -1.18301448, -1.17012481, -1.31044697, -1.02582533,\n",
       "       -1.28574678,  0.76670291,  0.55835806, -1.29393746, -1.1008344 ,\n",
       "       -1.40849652, -1.44024404, -0.99393081, -1.3735703 , -1.32007041,\n",
       "       -0.73272   , -1.15465283, -1.29427546, -1.27636097, -1.00868916,\n",
       "       -1.50941381, -1.40064105, -0.91130629, -1.20957149, -1.31377477,\n",
       "       -1.31259589, -1.27417087, -1.01952897, -1.277762  , -1.16860438,\n",
       "       -0.90111151, -1.33886991, -1.17405251, -1.04804299,  1.13111672,\n",
       "       -1.3329814 , -1.09968585, -1.19665845, -0.81010362,  0.78373208,\n",
       "       -1.0341897 , -1.14421259, -1.19471088, -1.20168567, -1.24207432,\n",
       "        1.03981038, -1.30393865, -0.80988561, -1.44060344,  1.23172837,\n",
       "       -1.21045694, -1.10161065, -0.87218932, -1.27315064, -1.17355601,\n",
       "       -1.03546215,  0.60275544, -1.32045308, -1.21276185,  1.51080504,\n",
       "       -1.13092537, -1.00773375, -1.51405037, -0.98639162, -1.25062494,\n",
       "       -1.08698593, -1.07498172, -1.30200659,  0.42158594, -1.07513295,\n",
       "       -1.23490399, -0.95704057, -1.38828613, -1.34155105, -0.81820446,\n",
       "       -1.07146648, -1.21649364, -0.61418263, -1.18468333, -1.21237526,\n",
       "       -1.18857439, -1.24528343, -0.84731989, -1.19538385, -1.25116822,\n",
       "       -1.1213611 , -1.30727383, -1.11260887, -1.15909328, -0.82799781,\n",
       "       -1.5488772 , -0.98178058, -1.27393744, -1.07068342, -1.27873318,\n",
       "       -1.23146133, -1.45925089, -1.09905324, -1.2836154 ,  1.16742062,\n",
       "        0.03143582, -1.31904838, -1.2432315 , -0.97089933, -1.34578434,\n",
       "       -0.96079921, -1.14882951, -0.74952631, -1.01397469, -1.34859687,\n",
       "        1.43181929, -1.49048083, -1.0489593 ,  1.61872227, -0.98471623,\n",
       "       -1.35417187, -1.40010769, -1.3657928 , -1.2041645 , -1.43773103,\n",
       "       -1.14153755, -1.21587287, -0.90335356, -1.21643138, -1.40709694,\n",
       "        1.05321737, -1.12160414, -1.28732407, -1.32242343, -1.23206125,\n",
       "       -1.0177955 , -1.1860264 , -1.07627031, -1.01293599, -1.2182569 ,\n",
       "       -1.16976589, -1.46228522,  1.2604109 , -0.74047949, -1.36688442])"
      ]
     },
     "execution_count": 88,
     "metadata": {},
     "output_type": "execute_result"
    }
   ],
   "source": [
    "clf.decision_function(data)"
   ]
  }
 ],
 "metadata": {
  "kernelspec": {
   "display_name": "Python 3",
   "language": "python",
   "name": "python3"
  },
  "language_info": {
   "codemirror_mode": {
    "name": "ipython",
    "version": 3
   },
   "file_extension": ".py",
   "mimetype": "text/x-python",
   "name": "python",
   "nbconvert_exporter": "python",
   "pygments_lexer": "ipython3",
   "version": "3.9.12"
  }
 },
 "nbformat": 4,
 "nbformat_minor": 5
}
