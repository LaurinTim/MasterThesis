{
 "cells": [
  {
   "cell_type": "code",
   "execution_count": 2,
   "id": "2759bbde",
   "metadata": {},
   "outputs": [],
   "source": [
    "import sys\n",
    "sys.path.append('/eos/home-i00/l/lkoller/SWAN_projects/commands/Lya_commands')\n",
    "\n",
    "from Ltif import Lpicday, Lpic\n",
    "import numpy as np\n",
    "import matplotlib.pyplot as plt\n",
    "from joblib import dump, load\n",
    "from sklearn import datasets, metrics, svm"
   ]
  },
  {
   "cell_type": "code",
   "execution_count": 24,
   "id": "00db3d95",
   "metadata": {},
   "outputs": [
    {
     "name": "stderr",
     "output_type": "stream",
     "text": [
      "100%|██████████| 474/474 [00:20<00:00, 22.63it/s]\n"
     ]
    }
   ],
   "source": [
    "day = Lpicday('23_12_06')\n",
    "df = day.clusters_day(min_size = 80)"
   ]
  },
  {
   "cell_type": "code",
   "execution_count": 18,
   "id": "f750e5e4",
   "metadata": {},
   "outputs": [],
   "source": [
    "target = np.array([1,1,1,1,1,1,1,1,1,2,1,1,1,1,1,1,1,1,1,1,1,1,1,1,1,1,2,1,1,1,1,1,1,1,1,1,1,1,1,1,\n",
    "                  1,1,1,1,2,1,1,1,1,1,1,1,1,1,1,1,1,1,1,1,1,1,1,1,1,1,2,1,1,1,1,1,1,2,1,1,1,2,1,1,\n",
    "                  2,1,1,1,1,1,1,1,1,1,1,1,1,1,1,1,1,1,1,1,1,1,1,1,1,1,1,1,1,1,1,1,1,1,1,1,1,1,1,1,\n",
    "                  1,1,1,1,1,1,1,1,1,1,1,1,1,1,2,1,1,1,1,1,1,1,1,1,1,1,1,1,2,1,1,2,1,1,1,1,1,1,1,1,\n",
    "                  1,1,1,1,1,1,1,1,1,2,1,1,1,1,1,1,1,1,1,2,1,1,1,1,1,1,1,1,1,1,1,1,1,1,1,1,1,1,1,1,\n",
    "                  2,1,1,1,1,1,1,2,1,1,1,1,1,1,1,1,1,1,1,1,1,1,1,1,1,1,1,1,1,1,1,1,1,1,1,1,1,1,1,1,\n",
    "                  1,1,1,1,1,1,1,2,1,1,1,1,1,2,1,1,1,1,1,1,1,1,1,1,1,1,1,1,1,1,1,1,1,1,1,1,2,1,1,1,\n",
    "                  1,2,1,1,1,1,1,1,1,1,1,1,1,1,1,1,1,1,1,1,1,1,1,1,1,1,1,1,1,1,1,1,1,1,1,1,1,2,1,1,\n",
    "                  1,1,1,1,1,1,1,1,1,1,1,1,1,1,1,1,1,1,1,1,1,1,1,1,1,1,1,1,1,1,1,1,1,1,1,1,1,1,1,1,\n",
    "                  1,1,1,1,2,1,1,1,1,1,2,1,1,1,1,1,1,1,1,1,1,1,1,1,1,1,1,1,2,1,1,1,1,1,1,1,1,1,1,1,\n",
    "                  1,1,1,1,2,1,1,1,1,1,2,1,1,1,1,1,1,1,1,1,1,1,1,1,1,1,1,1,1,1,1,1,1,1,1,1,1,1,1,1,\n",
    "                  1,1,1,1,1,1,1,1,1,1,1,1,1,1,2,1,1,1,1,1,1,1,1,1,2,1,1,1,1,1])"
   ]
  },
  {
   "cell_type": "code",
   "execution_count": 27,
   "id": "0d61717b",
   "metadata": {},
   "outputs": [],
   "source": [
    "cl = [val for bal in list(df['cluster']) for val in bal if len(val) > 0]\n",
    "\n",
    "max_h, max_w = 53, 42\n",
    "\n",
    "for item in [val for bal in cl for val in bal]:\n",
    "    while len(item) < max_w:\n",
    "        item += [0]\n",
    "\n",
    "for item in cl:\n",
    "    while len(item) < max_h:\n",
    "        item += [[0] * max_w]\n",
    "        \n",
    "ac = np.array(cl)\n",
    "\n",
    "data = ac.reshape(len(ac), -1)"
   ]
  },
  {
   "cell_type": "code",
   "execution_count": 29,
   "id": "c8c94a60",
   "metadata": {},
   "outputs": [
    {
     "data": {
      "text/plain": [
       "['/eos/user/l/lkoller/ML models/clust_num_v2.txt']"
      ]
     },
     "execution_count": 29,
     "metadata": {},
     "output_type": "execute_result"
    }
   ],
   "source": [
    "clf = svm.SVC()\n",
    "clf.fit(data,target)\n",
    "dump(clf,'/eos/user/l/lkoller/ML models/clust_num_v2.txt')"
   ]
  }
 ],
 "metadata": {
  "kernelspec": {
   "display_name": "Python 3",
   "language": "python",
   "name": "python3"
  },
  "language_info": {
   "codemirror_mode": {
    "name": "ipython",
    "version": 3
   },
   "file_extension": ".py",
   "mimetype": "text/x-python",
   "name": "python",
   "nbconvert_exporter": "python",
   "pygments_lexer": "ipython3",
   "version": "3.9.12"
  }
 },
 "nbformat": 4,
 "nbformat_minor": 5
}
