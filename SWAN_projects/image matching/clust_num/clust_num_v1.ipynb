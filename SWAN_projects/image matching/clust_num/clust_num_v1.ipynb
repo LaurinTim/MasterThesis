{
 "cells": [
  {
   "cell_type": "code",
   "execution_count": 1,
   "id": "1db4bdbb",
   "metadata": {},
   "outputs": [],
   "source": [
    "import sys\n",
    "sys.path.append('/eos/home-i00/l/lkoller/SWAN_projects/commands/Lya_commands')\n",
    "\n",
    "from Ltif import Lpicday, Lpic\n",
    "from sklearn import datasets, metrics, svm\n",
    "import numpy as np\n",
    "import matplotlib.pyplot as plt\n",
    "from sklearn.model_selection import train_test_split\n",
    "from joblib import dump, load"
   ]
  },
  {
   "cell_type": "code",
   "execution_count": 2,
   "id": "5abea3ac",
   "metadata": {},
   "outputs": [
    {
     "name": "stderr",
     "output_type": "stream",
     "text": [
      "100%|██████████| 20/20 [00:01<00:00, 17.06it/s]\n"
     ]
    }
   ],
   "source": [
    "day = Lpicday('23_12_14')\n",
    "df = day.clusters_day(min_size = 100)"
   ]
  },
  {
   "cell_type": "code",
   "execution_count": 3,
   "id": "7c97a95f",
   "metadata": {},
   "outputs": [],
   "source": [
    "cl = [val for bal in list(df['cluster']) for val in bal]\n",
    "\n",
    "max_h = max(len(item) for item in cl) + 10\n",
    "max_w = max(len(item) for item in [val for bal in cl for val in bal]) + 10\n",
    "\n",
    "for item in [val for bal in cl for val in bal]:\n",
    "    while len(item) < max_w:\n",
    "        item += [0]\n",
    "\n",
    "for item in cl:\n",
    "    while len(item) < max_h:\n",
    "        item += [[0] * max_w]\n",
    "        \n",
    "ac = np.array(cl)\n",
    "\n",
    "data = ac.reshape(264, -1)"
   ]
  },
  {
   "cell_type": "code",
   "execution_count": 19,
   "id": "11e16729",
   "metadata": {},
   "outputs": [
    {
     "data": {
      "text/plain": [
       "(53, 42)"
      ]
     },
     "execution_count": 19,
     "metadata": {},
     "output_type": "execute_result"
    }
   ],
   "source": [
    "max_h, max_w"
   ]
  },
  {
   "cell_type": "code",
   "execution_count": 4,
   "id": "d6a7a69e",
   "metadata": {},
   "outputs": [],
   "source": [
    "target = np.array([1,1,1,1,1,1,1,2,1,2,1,1,2,1,1, #1st file\n",
    "                  1,1,1,2,1,1,1,1,1,1,1,1,1,1, #2nd file\n",
    "                  1,1,1,1,2,1,1,1,1,1, #3rd file\n",
    "                  1,1,1,1,2,1,1,2,2,1,1,2,1, #4th file\n",
    "                  1,1,2,1,1,1,1,2,2,1,2,1, #5th file !!!!! 1,1,2,1,1,1,1,2,2,1,5,1,\n",
    "                  1,1,1,1,1,2,1,1,1,1,1, #6th file\n",
    "                  1,1,1,1,1,2,1,1,1, #7th file !!!!!(the 2 might be a 1)\n",
    "                  2,1,1,1,1,1,1,1,1,1,1,1, #8th file\n",
    "                  1,1,1,1,1,2,1,2,1, #9th file\n",
    "                  1,1,2,1,1,1,1,1, #10th file\n",
    "                  1,1,1,1,1,1,1,1,2,1,1,2,2,1,1,1,1,1, #11th file\n",
    "                  1,1,1,1,2,1,1,1,1,1,1,1,1,1,1,1,1,1,1, #12th file\n",
    "                  1,2,1,1,1,1,1,1,1,1,1,1,2,1,1,1, #13th file\n",
    "                  1,1,1,1,2,1,1,1,1,1,1,1,1,1,1, #1,1,1,1,1,2,1,1,1,1,1,1,1, #14th file\n",
    "                  1,1,1,2,1,2,2,1,1,1,1,1,1,1,2, #15th file !!!!! 1,1,1,2,1,2,4,1,1,1,1,1,1,1,2,\n",
    "                  1,1,1,1,1,1,1,1,1,1,1,1,2,1, #16th file\n",
    "                  1,1,1,1,1,1,1,1,1,2,2,1,1,1,1,1,2,2,1,1,2,1,1, #17th file\n",
    "                  1,1,2,1,1,1,1,1,1,1,2,1,1, #18th file\n",
    "                  1,1,1,1,1,1,1,1,1,2,1, #19th file\n",
    "                  1,1,1,1,1,1,1]) #20th file"
   ]
  },
  {
   "cell_type": "code",
   "execution_count": 5,
   "id": "8ee90919",
   "metadata": {},
   "outputs": [
    {
     "data": {
      "text/html": [
       "<style>#sk-container-id-1 {color: black;background-color: white;}#sk-container-id-1 pre{padding: 0;}#sk-container-id-1 div.sk-toggleable {background-color: white;}#sk-container-id-1 label.sk-toggleable__label {cursor: pointer;display: block;width: 100%;margin-bottom: 0;padding: 0.3em;box-sizing: border-box;text-align: center;}#sk-container-id-1 label.sk-toggleable__label-arrow:before {content: \"▸\";float: left;margin-right: 0.25em;color: #696969;}#sk-container-id-1 label.sk-toggleable__label-arrow:hover:before {color: black;}#sk-container-id-1 div.sk-estimator:hover label.sk-toggleable__label-arrow:before {color: black;}#sk-container-id-1 div.sk-toggleable__content {max-height: 0;max-width: 0;overflow: hidden;text-align: left;background-color: #f0f8ff;}#sk-container-id-1 div.sk-toggleable__content pre {margin: 0.2em;color: black;border-radius: 0.25em;background-color: #f0f8ff;}#sk-container-id-1 input.sk-toggleable__control:checked~div.sk-toggleable__content {max-height: 200px;max-width: 100%;overflow: auto;}#sk-container-id-1 input.sk-toggleable__control:checked~label.sk-toggleable__label-arrow:before {content: \"▾\";}#sk-container-id-1 div.sk-estimator input.sk-toggleable__control:checked~label.sk-toggleable__label {background-color: #d4ebff;}#sk-container-id-1 div.sk-label input.sk-toggleable__control:checked~label.sk-toggleable__label {background-color: #d4ebff;}#sk-container-id-1 input.sk-hidden--visually {border: 0;clip: rect(1px 1px 1px 1px);clip: rect(1px, 1px, 1px, 1px);height: 1px;margin: -1px;overflow: hidden;padding: 0;position: absolute;width: 1px;}#sk-container-id-1 div.sk-estimator {font-family: monospace;background-color: #f0f8ff;border: 1px dotted black;border-radius: 0.25em;box-sizing: border-box;margin-bottom: 0.5em;}#sk-container-id-1 div.sk-estimator:hover {background-color: #d4ebff;}#sk-container-id-1 div.sk-parallel-item::after {content: \"\";width: 100%;border-bottom: 1px solid gray;flex-grow: 1;}#sk-container-id-1 div.sk-label:hover label.sk-toggleable__label {background-color: #d4ebff;}#sk-container-id-1 div.sk-serial::before {content: \"\";position: absolute;border-left: 1px solid gray;box-sizing: border-box;top: 0;bottom: 0;left: 50%;z-index: 0;}#sk-container-id-1 div.sk-serial {display: flex;flex-direction: column;align-items: center;background-color: white;padding-right: 0.2em;padding-left: 0.2em;position: relative;}#sk-container-id-1 div.sk-item {position: relative;z-index: 1;}#sk-container-id-1 div.sk-parallel {display: flex;align-items: stretch;justify-content: center;background-color: white;position: relative;}#sk-container-id-1 div.sk-item::before, #sk-container-id-1 div.sk-parallel-item::before {content: \"\";position: absolute;border-left: 1px solid gray;box-sizing: border-box;top: 0;bottom: 0;left: 50%;z-index: -1;}#sk-container-id-1 div.sk-parallel-item {display: flex;flex-direction: column;z-index: 1;position: relative;background-color: white;}#sk-container-id-1 div.sk-parallel-item:first-child::after {align-self: flex-end;width: 50%;}#sk-container-id-1 div.sk-parallel-item:last-child::after {align-self: flex-start;width: 50%;}#sk-container-id-1 div.sk-parallel-item:only-child::after {width: 0;}#sk-container-id-1 div.sk-dashed-wrapped {border: 1px dashed gray;margin: 0 0.4em 0.5em 0.4em;box-sizing: border-box;padding-bottom: 0.4em;background-color: white;}#sk-container-id-1 div.sk-label label {font-family: monospace;font-weight: bold;display: inline-block;line-height: 1.2em;}#sk-container-id-1 div.sk-label-container {text-align: center;}#sk-container-id-1 div.sk-container {/* jupyter's `normalize.less` sets `[hidden] { display: none; }` but bootstrap.min.css set `[hidden] { display: none !important; }` so we also need the `!important` here to be able to override the default hidden behavior on the sphinx rendered scikit-learn.org. See: https://github.com/scikit-learn/scikit-learn/issues/21755 */display: inline-block !important;position: relative;}#sk-container-id-1 div.sk-text-repr-fallback {display: none;}</style><div id=\"sk-container-id-1\" class=\"sk-top-container\"><div class=\"sk-text-repr-fallback\"><pre>SVC()</pre><b>In a Jupyter environment, please rerun this cell to show the HTML representation or trust the notebook. <br />On GitHub, the HTML representation is unable to render, please try loading this page with nbviewer.org.</b></div><div class=\"sk-container\" hidden><div class=\"sk-item\"><div class=\"sk-estimator sk-toggleable\"><input class=\"sk-toggleable__control sk-hidden--visually\" id=\"sk-estimator-id-1\" type=\"checkbox\" checked><label for=\"sk-estimator-id-1\" class=\"sk-toggleable__label sk-toggleable__label-arrow\">SVC</label><div class=\"sk-toggleable__content\"><pre>SVC()</pre></div></div></div></div></div>"
      ],
      "text/plain": [
       "SVC()"
      ]
     },
     "execution_count": 5,
     "metadata": {},
     "output_type": "execute_result"
    }
   ],
   "source": [
    "X_train, X_test, y_train, y_test = train_test_split(\n",
    "    data, target, test_size=0.5, shuffle=False)\n",
    "\n",
    "clf = svm.SVC()\n",
    "clf.fit(data, target)\n"
   ]
  },
  {
   "cell_type": "code",
   "execution_count": 6,
   "id": "8b6c4edc",
   "metadata": {},
   "outputs": [
    {
     "data": {
      "text/plain": [
       "['/eos/user/l/lkoller/ML models/clust_num_v1.txt']"
      ]
     },
     "execution_count": 6,
     "metadata": {},
     "output_type": "execute_result"
    }
   ],
   "source": [
    "dump(clf, '/eos/user/l/lkoller/ML models/clust_num_v1.txt')"
   ]
  },
  {
   "cell_type": "code",
   "execution_count": 10,
   "id": "f90d0f27",
   "metadata": {},
   "outputs": [
    {
     "data": {
      "text/plain": [
       "(2, <matplotlib.image.AxesImage at 0x7fe58b22c6d0>)"
      ]
     },
     "execution_count": 10,
     "metadata": {},
     "output_type": "execute_result"
    },
    {
     "data": {
      "image/png": "[encoded data removed]",
      "text/plain": [
       "<Figure size 432x288 with 1 Axes>"
      ]
     },
     "metadata": {
      "needs_background": "light"
     },
     "output_type": "display_data"
    }
   ],
   "source": [
    "target[101], plt.imshow(cl[101])"
   ]
  },
  {
   "cell_type": "code",
   "execution_count": 13,
   "id": "1d2b10fa",
   "metadata": {},
   "outputs": [
    {
     "data": {
      "text/plain": [
       "array([2])"
      ]
     },
     "execution_count": 13,
     "metadata": {},
     "output_type": "execute_result"
    }
   ],
   "source": [
    "clf.predict([data[101]])"
   ]
  },
  {
   "cell_type": "code",
   "execution_count": 168,
   "id": "9f9e71e3",
   "metadata": {},
   "outputs": [
    {
     "data": {
      "text/plain": [
       "264"
      ]
     },
     "execution_count": 168,
     "metadata": {},
     "output_type": "execute_result"
    }
   ],
   "source": [
    "res = 0\n",
    "for i in range(20):\n",
    "    res += len(df['size'][i])\n",
    "    \n",
    "res"
   ]
  },
  {
   "cell_type": "code",
   "execution_count": 167,
   "id": "bac56f56",
   "metadata": {},
   "outputs": [
    {
     "data": {
      "text/plain": [
       "7"
      ]
     },
     "execution_count": 167,
     "metadata": {},
     "output_type": "execute_result"
    }
   ],
   "source": [
    "len(df['size'][19])"
   ]
  },
  {
   "cell_type": "code",
   "execution_count": 153,
   "id": "fdb10784",
   "metadata": {
    "collapsed": true
   },
   "outputs": [
    {
     "data": {
      "image/png": "[encoded data removed]",
      "text/plain": [
       "<Figure size 432x288 with 1 Axes>"
      ]
     },
     "metadata": {
      "needs_background": "light"
     },
     "output_type": "display_data"
    },
    {
     "data": {
      "image/png": "[encoded data removed]",
      "text/plain": [
       "<Figure size 432x288 with 1 Axes>"
      ]
     },
     "metadata": {
      "needs_background": "light"
     },
     "output_type": "display_data"
    },
    {
     "data": {
      "image/png": "[encoded data removed]",
      "text/plain": [
       "<Figure size 432x288 with 1 Axes>"
      ]
     },
     "metadata": {
      "needs_background": "light"
     },
     "output_type": "display_data"
    },
    {
     "data": {
      "image/png": "[encoded data removed]",
      "text/plain": [
       "<Figure size 432x288 with 1 Axes>"
      ]
     },
     "metadata": {
      "needs_background": "light"
     },
     "output_type": "display_data"
    },
    {
     "data": {
      "image/png": "[encoded data removed]",
      "text/plain": [
       "<Figure size 432x288 with 1 Axes>"
      ]
     },
     "metadata": {
      "needs_background": "light"
     },
     "output_type": "display_data"
    },
    {
     "data": {
      "image/png": "[encoded data removed]",
      "text/plain": [
       "<Figure size 432x288 with 1 Axes>"
      ]
     },
     "metadata": {
      "needs_background": "light"
     },
     "output_type": "display_data"
    },
    {
     "data": {
      "image/png": "[encoded data removed]",
      "text/plain": [
       "<Figure size 432x288 with 1 Axes>"
      ]
     },
     "metadata": {
      "needs_background": "light"
     },
     "output_type": "display_data"
    },
    {
     "data": {
      "image/png": "[encoded data removed]",
      "text/plain": [
       "<Figure size 432x288 with 1 Axes>"
      ]
     },
     "metadata": {
      "needs_background": "light"
     },
     "output_type": "display_data"
    },
    {
     "data": {
      "image/png": "[encoded data removed]",
      "text/plain": [
       "<Figure size 432x288 with 1 Axes>"
      ]
     },
     "metadata": {
      "needs_background": "light"
     },
     "output_type": "display_data"
    },
    {
     "data": {
      "image/png": "[encoded data removed]",
      "text/plain": [
       "<Figure size 432x288 with 1 Axes>"
      ]
     },
     "metadata": {
      "needs_background": "light"
     },
     "output_type": "display_data"
    },
    {
     "data": {
      "image/png": "[encoded data removed]",
      "text/plain": [
       "<Figure size 432x288 with 1 Axes>"
      ]
     },
     "metadata": {
      "needs_background": "light"
     },
     "output_type": "display_data"
    },
    {
     "data": {
      "image/png": "[encoded data removed]",
      "text/plain": [
       "<Figure size 432x288 with 1 Axes>"
      ]
     },
     "metadata": {
      "needs_background": "light"
     },
     "output_type": "display_data"
    },
    {
     "data": {
      "image/png": "[encoded data removed]",
      "text/plain": [
       "<Figure size 432x288 with 1 Axes>"
      ]
     },
     "metadata": {
      "needs_background": "light"
     },
     "output_type": "display_data"
    }
   ],
   "source": [
    "for i in range(13): \n",
    "    plt.figure()\n",
    "    plt.imshow(cl[i+64])"
   ]
  },
  {
   "cell_type": "code",
   "execution_count": 122,
   "id": "9ee527cd",
   "metadata": {},
   "outputs": [
    {
     "data": {
      "text/plain": [
       "264"
      ]
     },
     "execution_count": 122,
     "metadata": {},
     "output_type": "execute_result"
    }
   ],
   "source": [
    "len([val for bal in df['size'] for val in bal])"
   ]
  },
  {
   "cell_type": "code",
   "execution_count": null,
   "id": "841b6509",
   "metadata": {},
   "outputs": [],
   "source": [
    "df[size]"
   ]
  },
  {
   "cell_type": "code",
   "execution_count": 132,
   "id": "4c8bc574",
   "metadata": {},
   "outputs": [
    {
     "data": {
      "text/plain": [
       "25"
      ]
     },
     "execution_count": 132,
     "metadata": {},
     "output_type": "execute_result"
    }
   ],
   "source": [
    "264 - 239"
   ]
  }
 ],
 "metadata": {
  "@webio": {
   "lastCommId": null,
   "lastKernelId": null
  },
  "kernelspec": {
   "display_name": "Python 3",
   "language": "python",
   "name": "python3"
  },
  "language_info": {
   "codemirror_mode": {
    "name": "ipython",
    "version": 3
   },
   "file_extension": ".py",
   "mimetype": "text/x-python",
   "name": "python",
   "nbconvert_exporter": "python",
   "pygments_lexer": "ipython3",
   "version": "3.9.12"
  }
 },
 "nbformat": 4,
 "nbformat_minor": 5
}
