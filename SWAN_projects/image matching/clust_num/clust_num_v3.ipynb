{
 "cells": [
  {
   "cell_type": "code",
   "execution_count": 1,
   "id": "277a9489",
   "metadata": {},
   "outputs": [],
   "source": [
    "import sys\n",
    "sys.path.append('/eos/home-i00/l/lkoller/SWAN_projects/commands/Lya_commands')\n",
    "\n",
    "from Ltif import Lpicday, Lpic\n",
    "from sklearn import datasets, metrics, svm\n",
    "import numpy as np\n",
    "import matplotlib.pyplot as plt\n",
    "from sklearn.model_selection import train_test_split\n",
    "from joblib import dump, load"
   ]
  },
  {
   "cell_type": "code",
   "execution_count": 2,
   "id": "b4795d4d",
   "metadata": {},
   "outputs": [],
   "source": [
    "target1 = np.array([1,1,1,1,1,1,1,2,1,2,1,1,2,1,1, #1st file\n",
    "                  1,1,1,2,1,1,1,1,1,1,1,1,1,1, #2nd file\n",
    "                  1,1,1,1,2,1,1,1,1,1, #3rd file\n",
    "                  1,1,1,1,2,1,1,2,2,1,1,2,1, #4th file\n",
    "                  1,1,2,1,1,1,1,2,2,1,2,1, #5th file !!!!! 1,1,2,1,1,1,1,2,2,1,5,1,\n",
    "                  1,1,1,1,1,2,1,1,1,1,1, #6th file\n",
    "                  1,1,1,1,1,2,1,1,1, #7th file !!!!!(the 2 might be a 1)\n",
    "                  2,1,1,1,1,1,1,1,1,1,1,1, #8th file\n",
    "                  1,1,1,1,1,2,1,2,1, #9th file\n",
    "                  1,1,2,1,1,1,1,1, #10th file\n",
    "                  1,1,1,1,1,1,1,1,2,1,1,2,2,1,1,1,1,1, #11th file\n",
    "                  1,1,1,1,2,1,1,1,1,1,1,1,1,1,1,1,1,1,1, #12th file\n",
    "                  1,2,1,1,1,1,1,1,1,1,1,1,2,1,1,1, #13th file\n",
    "                  1,1,1,1,2,1,1,1,1,1,1,1,1,1,1, #1,1,1,1,1,2,1,1,1,1,1,1,1, #14th file\n",
    "                  1,1,1,2,1,2,2,1,1,1,1,1,1,1,2, #15th file !!!!! 1,1,1,2,1,2,4,1,1,1,1,1,1,1,2,\n",
    "                  1,1,1,1,1,1,1,1,1,1,1,1,2,1, #16th file\n",
    "                  1,1,1,1,1,1,1,1,1,2,2,1,1,1,1,1,2,2,1,1,2,1,1, #17th file\n",
    "                  1,1,2,1,1,1,1,1,1,1,2,1,1, #18th file\n",
    "                  1,1,1,1,1,1,1,1,1,2,1, #19th file\n",
    "                  1,1,1,1,1,1,1]) #20th file\n",
    "\n",
    "target2 = np.array([1,1,1,1,1,1,1,1,1,2,1,1,1,1,1,1,1,1,1,1,1,1,1,1,1,1,2,1,1,1,1,1,1,1,1,1,1,1,1,1,\n",
    "                  1,1,1,1,2,1,1,1,1,1,1,1,1,1,1,1,1,1,1,1,1,1,1,1,1,1,2,1,1,1,1,1,1,2,1,1,1,2,1,1,\n",
    "                  2,1,1,1,1,1,1,1,1,1,1,1,1,1,1,1,1,1,1,1,1,1,1,1,1,1,1,1,1,1,1,1,1,1,1,1,1,1,1,1,\n",
    "                  1,1,1,1,1,1,1,1,1,1,1,1,1,1,2,1,1,1,1,1,1,1,1,1,1,1,1,1,2,1,1,2,1,1,1,1,1,1,1,1,\n",
    "                  1,1,1,1,1,1,1,1,1,2,1,1,1,1,1,1,1,1,1,2,1,1,1,1,1,1,1,1,1,1,1,1,1,1,1,1,1,1,1,1,\n",
    "                  2,1,1,1,1,1,1,2,1,1,1,1,1,1,1,1,1,1,1,1,1,1,1,1,1,1,1,1,1,1,1,1,1,1,1,1,1,1,1,1,\n",
    "                  1,1,1,1,1,1,1,2,1,1,1,1,1,2,1,1,1,1,1,1,1,1,1,1,1,1,1,1,1,1,1,1,1,1,1,1,2,1,1,1,\n",
    "                  1,2,1,1,1,1,1,1,1,1,1,1,1,1,1,1,1,1,1,1,1,1,1,1,1,1,1,1,1,1,1,1,1,1,1,1,1,2,1,1,\n",
    "                  1,1,1,1,1,1,1,1,1,1,1,1,1,1,1,1,1,1,1,1,1,1,1,1,1,1,1,1,1,1,1,1,1,1,1,1,1,1,1,1,\n",
    "                  1,1,1,1,2,1,1,1,1,1,2,1,1,1,1,1,1,1,1,1,1,1,1,1,1,1,1,1,2,1,1,1,1,1,1,1,1,1,1,1,\n",
    "                  1,1,1,1,2,1,1,1,1,1,2,1,1,1,1,1,1,1,1,1,1,1,1,1,1,1,1,1,1,1,1,1,1,1,1,1,1,1,1,1,\n",
    "                  1,1,1,1,1,1,1,1,1,1,1,1,1,1,2,1,1,1,1,1,1,1,1,1,2,1,1,1,1,1])\n",
    "\n",
    "target = np.append(target1,target2)"
   ]
  },
  {
   "cell_type": "code",
   "execution_count": 3,
   "id": "241d905c",
   "metadata": {},
   "outputs": [
    {
     "name": "stderr",
     "output_type": "stream",
     "text": [
      "100%|██████████| 20/20 [00:00<00:00, 21.66it/s]\n",
      "100%|██████████| 474/474 [00:22<00:00, 21.07it/s]\n"
     ]
    }
   ],
   "source": [
    "df1 = Lpicday('23_12_14').clusters_day(min_size = 100)\n",
    "df2 = Lpicday('23_12_06').clusters_day(min_size = 80)"
   ]
  },
  {
   "cell_type": "code",
   "execution_count": 4,
   "id": "d74a1f5a",
   "metadata": {},
   "outputs": [],
   "source": [
    "cl1 = [val for bal in list(df1['cluster']) for val in bal if len(val) > 0]\n",
    "cl2 = [val for bal in list(df2['cluster']) for val in bal if len(val) > 0]\n",
    "\n",
    "cl = cl1 + cl2\n",
    "\n",
    "max_h, max_w = 53, 42\n",
    "\n",
    "for item in [val for bal in cl for val in bal]:\n",
    "    while len(item) < max_w:\n",
    "        item += [0]\n",
    "\n",
    "for item in cl:\n",
    "    while len(item) < max_h:\n",
    "        item += [[0] * max_w]\n",
    "        \n",
    "ac = np.array(cl)\n",
    "\n",
    "data = ac.reshape(len(ac), -1)"
   ]
  },
  {
   "cell_type": "code",
   "execution_count": 5,
   "id": "b9133ab3",
   "metadata": {},
   "outputs": [
    {
     "data": {
      "text/plain": [
       "['/eos/user/l/lkoller/ML models/clust_num_v3.txt']"
      ]
     },
     "execution_count": 5,
     "metadata": {},
     "output_type": "execute_result"
    }
   ],
   "source": [
    "clf = svm.SVC()\n",
    "clf.fit(data,target)\n",
    "dump(clf,'/eos/user/l/lkoller/ML models/clust_num_v3.txt')"
   ]
  }
 ],
 "metadata": {
  "kernelspec": {
   "display_name": "Python 3",
   "language": "python",
   "name": "python3"
  },
  "language_info": {
   "codemirror_mode": {
    "name": "ipython",
    "version": 3
   },
   "file_extension": ".py",
   "mimetype": "text/x-python",
   "name": "python",
   "nbconvert_exporter": "python",
   "pygments_lexer": "ipython3",
   "version": "3.9.12"
  }
 },
 "nbformat": 4,
 "nbformat_minor": 5
}
