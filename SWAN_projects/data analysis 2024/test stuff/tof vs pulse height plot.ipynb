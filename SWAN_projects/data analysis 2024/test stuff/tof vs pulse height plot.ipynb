{
 "cells": [
  {
   "cell_type": "code",
   "execution_count": null,
   "id": "1ae49846",
   "metadata": {},
   "outputs": [],
   "source": [
    "import sys\n",
    "sys.path.append('/eos/user/l/lkoller/SWAN_projects/data analysis 2024/LyA/commands')\n",
    "\n",
    "from pathlib import Path\n",
    "import pandas as pd\n",
    "import numpy as np\n",
    "import matplotlib.pyplot as plt\n",
    "import os\n",
    "from Ldate import Ldate\n",
    "from LyAdata24 import read_df\n",
    "from gbarDataLoader24 import loadShortSummary\n",
    "from readTrc_4CH import Trc"
   ]
  },
  {
   "cell_type": "code",
   "execution_count": null,
   "id": "a460ec6b",
   "metadata": {},
   "outputs": [],
   "source": [
    "df = read_df(version = 2)"
   ]
  },
  {
   "cell_type": "code",
   "execution_count": null,
   "id": "6360192f",
   "metadata": {},
   "outputs": [],
   "source": [
    "data = df[[True if 458 <= val <= 481 else False for val in df['run']]]\n",
    "\n",
    "h = [[],[],[],[]]\n",
    "t = [[],[],[],[]]\n",
    "f = [[],[],[],[]]\n",
    "\n",
    "for i in range(4):\n",
    "    h[i] = [val for val in data['height_ch' + str(i + 1)] if val != 'NaN']\n",
    "    t[i] = [val for val in data['time_ch' + str(i + 1)] if val != 'NaN']\n",
    "    f[i] = [val for val,bal in zip(data['LyA'],data['time_ch' + str(i + 1)]) if bal != 'NaN']\n",
    "    f[i] = [[val] * len(bal) for val,bal in zip(f[i],t[i])]\n",
    "    \n",
    "    h[i] = [val for bal in data['height_ch' + str(i + 1)] if bal != 'NaN' for val in bal]\n",
    "    t[i] = [val for bal in data['time_ch' + str(i + 1)] if bal != 'NaN' for val in bal]\n",
    "    f[i] = [val for bal in f[i] for val in bal]"
   ]
  },
  {
   "cell_type": "code",
   "execution_count": null,
   "id": "20d7de20",
   "metadata": {},
   "outputs": [],
   "source": [
    "tt = [val for bal in t for val in bal]\n",
    "tt = [val/1000 for val in tt]\n",
    "\n",
    "ht = [val for bal in h for val in bal]"
   ]
  },
  {
   "cell_type": "code",
   "execution_count": null,
   "id": "6b928486",
   "metadata": {},
   "outputs": [],
   "source": [
    "plt.figure(figsize = (20,10))\n",
    "plt.grid(alpha = 0.7)\n",
    "plt.scatter(tt,ht, s=3)\n",
    "plt.xlim(3,10)\n",
    "plt.xlabel(xlabel = 'Time of flight [μs]')\n",
    "plt.ylabel(ylabel = 'Peak height [V]')\n",
    "plt.savefig('/eos/user/l/lkoller/SWAN_projects/data analysis 2024/Data analysis/Figures/LyA peak distribution/runs_458to481-tof_vs_peakheight', dpi = 200)"
   ]
  },
  {
   "cell_type": "code",
   "execution_count": null,
   "id": "fd0f6548",
   "metadata": {},
   "outputs": [],
   "source": [
    "data = df[[True if 458 <= val <= 481 else False for val in df['run']]]\n",
    "\n",
    "dataf = data[data.microwave == 'off']\n",
    "datan = data[data.microwave == 'on']\n",
    "\n",
    "hf = [[],[],[],[]]\n",
    "tf = [[],[],[],[]]\n",
    "ff = [[],[],[],[]]\n",
    "\n",
    "for i in range(4):\n",
    "    hf[i] = [val for val in dataf['height_ch' + str(i + 1)] if val != 'NaN']\n",
    "    tf[i] = [val for val in dataf['time_ch' + str(i + 1)] if val != 'NaN']\n",
    "    ff[i] = [val for val,bal in zip(dataf['LyA'],dataf['time_ch' + str(i + 1)]) if bal != 'NaN']\n",
    "    ff[i] = [[val] * len(bal) for val,bal in zip(ff[i],tf[i])]\n",
    "    \n",
    "    hf[i] = [val for bal in dataf['height_ch' + str(i + 1)] if bal != 'NaN' for val in bal]\n",
    "    tf[i] = [val for bal in dataf['time_ch' + str(i + 1)] if bal != 'NaN' for val in bal]\n",
    "    ff[i] = [val for bal in ff[i] for val in bal]"
   ]
  },
  {
   "cell_type": "code",
   "execution_count": null,
   "id": "bba96e7a",
   "metadata": {},
   "outputs": [],
   "source": [
    "hn = [[],[],[],[]]\n",
    "tn = [[],[],[],[]]\n",
    "fn = [[],[],[],[]]\n",
    "\n",
    "for i in range(4):\n",
    "    hn[i] = [val for val in datan['height_ch' + str(i + 1)] if val != 'NaN']\n",
    "    tn[i] = [val for val in datan['time_ch' + str(i + 1)] if val != 'NaN']\n",
    "    fn[i] = [val for val,bal in zip(datan['LyA'],datan['time_ch' + str(i + 1)]) if bal != 'NaN']\n",
    "    fn[i] = [[val] * len(bal) for val,bal in zip(fn[i],tn[i])]\n",
    "    \n",
    "    hn[i] = [val for bal in datan['height_ch' + str(i + 1)] if bal != 'NaN' for val in bal]\n",
    "    tn[i] = [val for bal in datan['time_ch' + str(i + 1)] if bal != 'NaN' for val in bal]\n",
    "    fn[i] = [val for bal in fn[i] for val in bal]"
   ]
  },
  {
   "cell_type": "code",
   "execution_count": null,
   "id": "d7aec93c",
   "metadata": {},
   "outputs": [],
   "source": [
    "ttf = [val for bal in tf for val in bal]\n",
    "ttf = [val/1000 for val in ttf]\n",
    "\n",
    "htf = [val for bal in hf for val in bal]\n",
    "\n",
    "ttn = [val for bal in tn for val in bal]\n",
    "ttn = [val/1000 for val in ttn]\n",
    "\n",
    "htn = [val for bal in hn for val in bal]"
   ]
  },
  {
   "cell_type": "code",
   "execution_count": null,
   "id": "c1497699",
   "metadata": {},
   "outputs": [],
   "source": [
    "plt.figure(figsize = (20,10))\n",
    "plt.grid(alpha = 0.7)\n",
    "plt.scatter(ttf,htf, s=2)\n",
    "plt.xlim(3,10)\n",
    "plt.xlabel(xlabel = 'Time of flight [μs]')\n",
    "plt.ylabel(ylabel = 'Peak height [V]')"
   ]
  },
  {
   "cell_type": "code",
   "execution_count": null,
   "id": "7ee7bf57",
   "metadata": {},
   "outputs": [],
   "source": [
    "plt.figure(figsize = (20,10))\n",
    "plt.grid(alpha = 0.7)\n",
    "plt.scatter(ttn,htn, s=2)\n",
    "plt.xlim(3,10)\n",
    "plt.xlabel(xlabel = 'Time of flight [μs]')\n",
    "plt.ylabel(ylabel = 'Peak height [V]')"
   ]
  },
  {
   "cell_type": "code",
   "execution_count": null,
   "id": "9990fa62",
   "metadata": {},
   "outputs": [],
   "source": [
    "plt.figure(figsize = (20,10))\n",
    "plt.grid(alpha = 0.7)\n",
    "plt.scatter(ttf,htf, s=2, label = 'microwave off')\n",
    "plt.scatter(ttn,htn, s=2, label = 'microwave on')\n",
    "plt.xlim(3,10)\n",
    "plt.xlabel(xlabel = 'Time of flight [μs]')\n",
    "plt.ylabel(ylabel = 'Peak height [V]')\n",
    "plt.legend(loc = 'upper right')"
   ]
  }
 ],
 "metadata": {
  "kernelspec": {
   "display_name": "Python 3",
   "language": "python",
   "name": "python3"
  },
  "language_info": {
   "codemirror_mode": {
    "name": "ipython",
    "version": 3
   },
   "file_extension": ".py",
   "mimetype": "text/x-python",
   "name": "python",
   "nbconvert_exporter": "python",
   "pygments_lexer": "ipython3",
   "version": "3.9.12"
  }
 },
 "nbformat": 4,
 "nbformat_minor": 5
}
