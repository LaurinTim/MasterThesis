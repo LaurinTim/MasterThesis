{
 "cells": [
  {
   "cell_type": "code",
   "execution_count": 1,
   "id": "5e42da14",
   "metadata": {},
   "outputs": [],
   "source": [
    "import sys\n",
    "sys.path.append('/eos/home-i00/l/lkoller/SWAN_projects/data analysis 2024/LyA/commands')\n",
    "sys.path.append('/eos/home-i00/l/lkoller/SWAN_projects/commands/data_loader')\n",
    "\n",
    "from pathlib import Path\n",
    "import pandas as pd\n",
    "import numpy as np\n",
    "import matplotlib.pyplot as plt\n",
    "import os\n",
    "from LyAdata24 import read_df, read_df_v2\n",
    "pd.set_option(\"display.max_columns\",None)"
   ]
  },
  {
   "cell_type": "code",
   "execution_count": 2,
   "id": "a9b069c2",
   "metadata": {},
   "outputs": [],
   "source": [
    "#data from 23rd, 24th may\n",
    "df1 = read_df()\n",
    "df2 = read_df_v2()\n",
    "\n",
    "df1 = df1[[True if 458 <= val <= 481 else False for val in df1['run']]]\n",
    "df2 = df2[[True if 458 <= val <= 481 else False for val in df2['run']]]"
   ]
  },
  {
   "cell_type": "code",
   "execution_count": 3,
   "id": "f24045f8",
   "metadata": {},
   "outputs": [],
   "source": [
    "data1 = df1\n",
    "\n",
    "h1 = [[],[],[],[]]\n",
    "t1 = [[],[],[],[]]\n",
    "f1 = [[],[],[],[]]\n",
    "\n",
    "for i in range(4):\n",
    "    h1[i] = [val for val in data1['height_ch' + str(i + 1)] if val != 'NaN']\n",
    "    t1[i] = [val for val in data1['time_ch' + str(i + 1)] if val != 'NaN']\n",
    "    f1[i] = [val for val,bal in zip(data1['LyA'],data1['time_ch' + str(i + 1)]) if bal != 'NaN']\n",
    "    f1[i] = [[val] * len(bal) for val,bal in zip(f1[i],t1[i])]\n",
    "    \n",
    "    #h[i] = [val for bal in data['height_ch' + str(i + 1)] if bal != 'NaN' for val in bal]\n",
    "    #t[i] = [val for bal in data['time_ch' + str(i + 1)] if bal != 'NaN' for val in bal]\n",
    "    #f[i] = [val for bal in f[i] for val in bal]"
   ]
  },
  {
   "cell_type": "code",
   "execution_count": 4,
   "id": "7094141d",
   "metadata": {},
   "outputs": [],
   "source": [
    "data2 = df2\n",
    "\n",
    "h2 = [[],[],[],[]]\n",
    "t2 = [[],[],[],[]]\n",
    "f2 = [[],[],[],[]]\n",
    "\n",
    "for i in range(4):\n",
    "    h2[i] = [val for val in data2['height_ch' + str(i + 1)] if val != 'NaN']\n",
    "    t2[i] = [val for val in data2['time_ch' + str(i + 1)] if val != 'NaN']\n",
    "    f2[i] = [val for val,bal in zip(data2['LyA'],data2['time_ch' + str(i + 1)]) if bal != 'NaN']\n",
    "    f2[i] = [[val] * len(bal) for val,bal in zip(f2[i],t2[i])]\n",
    "    \n",
    "    #h[i] = [val for bal in data['height_ch' + str(i + 1)] if bal != 'NaN' for val in bal]\n",
    "    #t[i] = [val for bal in data['time_ch' + str(i + 1)] if bal != 'NaN' for val in bal]\n",
    "    #f[i] = [val for bal in f[i] for val in bal]"
   ]
  },
  {
   "cell_type": "code",
   "execution_count": 5,
   "id": "ce48d89e",
   "metadata": {},
   "outputs": [
    {
     "data": {
      "text/plain": [
       "['/eos/experiment/gbar/pgunpc/data/24_05_23/24_05_23lya/LY1234.1716493479.142.trc']"
      ]
     },
     "execution_count": 5,
     "metadata": {},
     "output_type": "execute_result"
    }
   ],
   "source": [
    "t2[1].pop(279)\n",
    "h2[1].pop(279)\n",
    "f2[1].pop(279)"
   ]
  },
  {
   "cell_type": "code",
   "execution_count": 7,
   "id": "93f1e4b5",
   "metadata": {},
   "outputs": [
    {
     "name": "stdout",
     "output_type": "stream",
     "text": [
      "52 /eos/experiment/gbar/pgunpc/data/24_05_23/24_05_23lya/LY1234.1716488867.439.trc\n",
      "[4934] [4934, 5077]\n",
      "[0.2906665578484535] [0.2906665578484535, 0.0096213273499161]\n",
      "\n",
      "59 /eos/experiment/gbar/pgunpc/data/24_05_23/24_05_23lya/LY1234.1716489083.639.trc\n",
      "[4920, 4980, 5906] [4920, 4980, 5106, 5906]\n",
      "[0.06169329496682621, 0.1656932302901987, 0.01902665483416058] [0.06169329496682621, 0.1656932302901987, 0.01902665483416058, 0.01902665483416058]\n",
      "\n",
      "62 /eos/experiment/gbar/pgunpc/data/24_05_23/24_05_23lya/LY1234.1716489141.839.trc\n",
      "[5180, 5341, 5485] [5180, 5341, 5485, 5530]\n",
      "[0.2906665578484535, 0.11382592921267497, 0.05115930151782232] [0.2906665578484535, 0.11382592921267497, 0.05115930151782232, 0.013825991401739884]\n",
      "\n",
      "64 /eos/experiment/gbar/pgunpc/data/24_05_23/24_05_23lya/LY1234.1716489184.583.trc\n",
      "[4928, 4980, 5186, 6049] [4928, 4980, 5186, 5329, 6049]\n",
      "[0.22083386266540037, 0.08083394973009127, 0.2906665578484535, 0.020833987043530216] [0.22083386266540037, 0.08083394973009127, 0.2906665578484535, 0.010167327010363806, 0.020833987043530216]\n",
      "\n"
     ]
    }
   ],
   "source": [
    "#ch0 until file 320, ch1 until file 680, ch2 until file 80, ch3 until file 80\n",
    "ch = 3\n",
    "off = 40\n",
    "\n",
    "for i in range(40):\n",
    "    if len(h1[ch][i+off]) != len(h2[ch][i+off]):\n",
    "        print(i+off, f1[ch][i+off][0])\n",
    "        print(t1[ch][i+off], t2[ch][i+off])\n",
    "        print(h1[ch][i+off], h2[ch][i+off])\n",
    "        print()"
   ]
  },
  {
   "cell_type": "code",
   "execution_count": 9,
   "id": "e0bab00e",
   "metadata": {},
   "outputs": [],
   "source": [
    "#data from 16th and 17th may\n",
    "da1 = read_df()\n",
    "da2 = read_df_v2()\n",
    "\n",
    "da1 = df1[[True if 428 <= val <= 451 else False for val in df1['run']]]\n",
    "da2 = df2[[True if 428 <= val <= 451 else False for val in df2['run']]]"
   ]
  },
  {
   "cell_type": "code",
   "execution_count": 10,
   "id": "7c8a3f72",
   "metadata": {},
   "outputs": [],
   "source": [
    "dat1 = df1\n",
    "\n",
    "h1 = [[],[],[],[]]\n",
    "t1 = [[],[],[],[]]\n",
    "f1 = [[],[],[],[]]\n",
    "\n",
    "for i in range(4):\n",
    "    h1[i] = [val for val in data1['height_ch' + str(i + 1)] if val != 'NaN']\n",
    "    t1[i] = [val for val in data1['time_ch' + str(i + 1)] if val != 'NaN']\n",
    "    f1[i] = [val for val,bal in zip(data1['LyA'],data1['time_ch' + str(i + 1)]) if bal != 'NaN']\n",
    "    f1[i] = [[val] * len(bal) for val,bal in zip(f1[i],t1[i])]"
   ]
  },
  {
   "cell_type": "code",
   "execution_count": 11,
   "id": "223cfc24",
   "metadata": {},
   "outputs": [],
   "source": [
    "data2 = df2\n",
    "\n",
    "h2 = [[],[],[],[]]\n",
    "t2 = [[],[],[],[]]\n",
    "f2 = [[],[],[],[]]\n",
    "\n",
    "for i in range(4):\n",
    "    h2[i] = [val for val in data2['height_ch' + str(i + 1)] if val != 'NaN']\n",
    "    t2[i] = [val for val in data2['time_ch' + str(i + 1)] if val != 'NaN']\n",
    "    f2[i] = [val for val,bal in zip(data2['LyA'],data2['time_ch' + str(i + 1)]) if bal != 'NaN']\n",
    "    f2[i] = [[val] * len(bal) for val,bal in zip(f2[i],t2[i])]"
   ]
  },
  {
   "cell_type": "code",
   "execution_count": 26,
   "id": "470e7f7f",
   "metadata": {},
   "outputs": [
    {
     "name": "stdout",
     "output_type": "stream",
     "text": [
      "82 /eos/experiment/gbar/pgunpc/data/24_05_23/24_05_23lya/LY1234.1716489634.721.trc\n",
      "[5066, 5176, 5257, 5707, 5993] [5067, 5176, 5257, 5707, 5820, 5993]\n",
      "[0.12327059000579174, 0.10327060244360473, 0.027270649707294068, 0.08060394987312611, 0.04860396977362689] [0.12333764031455385, 0.10299717684757151, 0.027712284460514915, 0.0810485709328135, 0.01872519860220709, 0.04823833123158987]\n",
      "\n",
      "87 /eos/experiment/gbar/pgunpc/data/24_05_23/24_05_23lya/LY1234.1716489732.078.trc\n",
      "[4977, 5078, 5248] [4976, 5078, 5248, 5413]\n",
      "[0.011173993050993886, 0.151173905986303, 0.12050725839094957] [0.012078715448895357, 0.15173736642877733, 0.11998994290069752, 0.008524878228836408]\n",
      "\n"
     ]
    }
   ],
   "source": [
    "#ch0 until file 120, ch1 until file 120, ch2 until file 120, ch3 until file 120\n",
    "ch = 2\n",
    "off = 80\n",
    "\n",
    "for i in range(40):\n",
    "    if len(h1[ch][i+off]) != len(h2[ch][i+off]):\n",
    "        print(i+off, f1[ch][i+off][0])\n",
    "        print(t1[ch][i+off], t2[ch][i+off])\n",
    "        print(h1[ch][i+off], h2[ch][i+off])\n",
    "        print()"
   ]
  },
  {
   "cell_type": "code",
   "execution_count": null,
   "id": "2c85f4d2",
   "metadata": {},
   "outputs": [],
   "source": []
  }
 ],
 "metadata": {
  "kernelspec": {
   "display_name": "Python 3",
   "language": "python",
   "name": "python3"
  },
  "language_info": {
   "codemirror_mode": {
    "name": "ipython",
    "version": 3
   },
   "file_extension": ".py",
   "mimetype": "text/x-python",
   "name": "python",
   "nbconvert_exporter": "python",
   "pygments_lexer": "ipython3",
   "version": "3.9.12"
  }
 },
 "nbformat": 4,
 "nbformat_minor": 5
}
