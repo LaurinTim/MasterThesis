{
 "cells": [
  {
   "cell_type": "code",
   "execution_count": 1,
   "id": "a5d3d1cb",
   "metadata": {},
   "outputs": [],
   "source": [
    "import sys\n",
    "sys.path.append('/eos/home-i00/l/lkoller/SWAN_projects/data analysis 2024/LyA/commands')\n",
    "sys.path.append('/eos/home-i00/l/lkoller/SWAN_projects/commands/data_loader')\n",
    "\n",
    "from pathlib import Path\n",
    "import pandas as pd\n",
    "import numpy as np\n",
    "import matplotlib.pyplot as plt\n",
    "from matplotlib.gridspec import GridSpec\n",
    "import os\n",
    "from readTrc_4CH import Trc\n",
    "pd.set_option(\"display.max_columns\",None)"
   ]
  },
  {
   "cell_type": "code",
   "execution_count": 11,
   "id": "47d3cd16",
   "metadata": {},
   "outputs": [],
   "source": [
    "df = pd.read_csv('/eos/user/l/lkoller/GBAR/data24/datafile24.txt', delimiter = '\\t')\n",
    "df = df[df.LyA != 'None']\n",
    "df1 = df[[True if -2001 < val < -1999 else False for val in df.Ly_MCP_1]]\n",
    "df2 = df[[True if -2101 < val < -2099 else False for val in df.Ly_MCP_1]]\n",
    "df3 = df[[True if -2201 < val < -2199 else False for val in df.Ly_MCP_1]]\n",
    "\n",
    "f1 = list(df1.LyA)\n",
    "f2 = list(df2.LyA)\n",
    "f3 = list(df3.LyA)"
   ]
  },
  {
   "cell_type": "code",
   "execution_count": 68,
   "id": "348ede82",
   "metadata": {},
   "outputs": [],
   "source": [
    "d1 = Trc().open(f1[0])\n",
    "d2 = Trc().open(f2[0])\n",
    "d3 = Trc().open(f3[0])\n",
    "\n",
    "t1, v1 = d1[0], d1[1]\n",
    "t2, v2 = d2[0], d2[1]\n",
    "t3, v3 = d3[0], d3[1]\n",
    "\n",
    "t1, v1 = [val[3500:] for val in t1], [val[3500:] for val in v1]\n",
    "t2, v2 = [val[3500:] for val in t2], [val[3500:] for val in v2]\n",
    "t3, v3 = [val[3500:] for val in t3], [val[3500:] for val in v3]\n",
    "\n",
    "st1, sv1 = [sorted(list(set(val))) for val in t1], [sorted(list(set(val))) for val in v1]\n",
    "st2, sv2 = [sorted(list(set(val))) for val in t2], [sorted(list(set(val))) for val in v2]\n",
    "st3, sv3 = [sorted(list(set(val))) for val in t3], [sorted(list(set(val))) for val in v3]"
   ]
  },
  {
   "cell_type": "code",
   "execution_count": 77,
   "id": "b0c7b214",
   "metadata": {},
   "outputs": [],
   "source": [
    "dst1 = [sorted(list(set([val-bal for val,bal in zip(st1[0][:-1],st1[0][1:])]))), sorted(list(set([val-bal for val,bal in zip(st1[1][:-1],st1[1][1:])]))), \n",
    "        sorted(list(set([val-bal for val,bal in zip(st1[2][:-1],st1[2][1:])]))), sorted(list(set([val-bal for val,bal in zip(st1[3][:-1],st1[3][1:])])))]\n",
    "dsv1 = [sorted(list(set([val-bal for val,bal in zip(sv1[0][:-1],sv1[0][1:])]))), sorted(list(set([val-bal for val,bal in zip(sv1[1][:-1],sv1[1][1:])]))), \n",
    "        sorted(list(set([val-bal for val,bal in zip(sv1[2][:-1],sv1[2][1:])]))), sorted(list(set([val-bal for val,bal in zip(sv1[3][:-1],sv1[3][1:])])))]\n",
    "\n",
    "dst2 = [sorted(list(set([val-bal for val,bal in zip(st2[0][:-1],st2[0][1:])]))), sorted(list(set([val-bal for val,bal in zip(st2[1][:-1],st2[1][1:])]))), \n",
    "        sorted(list(set([val-bal for val,bal in zip(st2[2][:-1],st2[2][1:])]))), sorted(list(set([val-bal for val,bal in zip(st2[3][:-1],st2[3][1:])])))]\n",
    "dsv2 = [sorted(list(set([val-bal for val,bal in zip(sv2[0][:-1],sv2[0][1:])]))), sorted(list(set([val-bal for val,bal in zip(sv2[1][:-1],sv2[1][1:])]))), \n",
    "        sorted(list(set([val-bal for val,bal in zip(sv2[2][:-1],sv2[2][1:])]))), sorted(list(set([val-bal for val,bal in zip(sv2[3][:-1],sv2[3][1:])])))]\n",
    "\n",
    "dst3 = [sorted(list(set([val-bal for val,bal in zip(st3[0][:-1],st3[0][1:])]))), sorted(list(set([val-bal for val,bal in zip(st3[1][:-1],st3[1][1:])]))), \n",
    "        sorted(list(set([val-bal for val,bal in zip(st3[2][:-1],st3[2][1:])]))), sorted(list(set([val-bal for val,bal in zip(st3[3][:-1],st3[3][1:])])))]\n",
    "dsv3 = [sorted(list(set([val-bal for val,bal in zip(sv3[0][:-1],sv3[0][1:])]))), sorted(list(set([val-bal for val,bal in zip(sv3[1][:-1],sv3[1][1:])]))), \n",
    "        sorted(list(set([val-bal for val,bal in zip(sv3[2][:-1],sv3[2][1:])]))), sorted(list(set([val-bal for val,bal in zip(sv3[3][:-1],sv3[3][1:])])))]"
   ]
  },
  {
   "cell_type": "code",
   "execution_count": 88,
   "id": "8d269862",
   "metadata": {},
   "outputs": [
    {
     "data": {
      "text/plain": [
       "-0.001333332504145801"
      ]
     },
     "execution_count": 88,
     "metadata": {},
     "output_type": "execute_result"
    }
   ],
   "source": [
    "dsv3[0][-1]"
   ]
  },
  {
   "cell_type": "code",
   "execution_count": 84,
   "id": "0308dfb1",
   "metadata": {},
   "outputs": [],
   "source": [
    "divsv1 = [[val/dsv1[0][-1] for val in bal] for bal in dsv1]\n",
    "divsv2 = [[val/dsv2[0][-1] for val in bal] for bal in dsv2]\n",
    "divsv3 = [[val/dsv3[0][-1] for val in bal] for bal in dsv3]"
   ]
  },
  {
   "cell_type": "code",
   "execution_count": 72,
   "id": "c09c11e1",
   "metadata": {},
   "outputs": [
    {
     "data": {
      "text/plain": [
       "<matplotlib.collections.PathCollection at 0x7f7c1446bf40>"
      ]
     },
     "execution_count": 72,
     "metadata": {},
     "output_type": "execute_result"
    },
    {
     "data": {
      "image/png": "[encoded data removed]",
      "text/plain": [
       "<Figure size 1440x576 with 1 Axes>"
      ]
     },
     "metadata": {
      "needs_background": "light"
     },
     "output_type": "display_data"
    }
   ],
   "source": [
    "plt.figure(figsize = (20,8))\n",
    "plt.scatter(t3[0],v3[0])"
   ]
  },
  {
   "cell_type": "code",
   "execution_count": 85,
   "id": "656a664b",
   "metadata": {},
   "outputs": [
    {
     "data": {
      "text/plain": [
       "[[30.0, 13.0, 10.0, 9.0, 7.0, 5.0, 3.0, 2.0, 1.0],\n",
       " [23.0, 21.0, 8.0, 7.0, 6.0, 4.0, 3.0, 2.0, 1.0],\n",
       " [28.0, 21.0, 18.0, 16.0, 15.0, 8.0, 6.0, 5.0, 4.0, 3.0, 2.0, 1.0],\n",
       " [76.0, 26.0, 20.0, 18.0, 13.0, 12.0, 9.0, 6.0, 5.0, 4.0, 3.0, 2.0, 1.0]]"
      ]
     },
     "execution_count": 85,
     "metadata": {},
     "output_type": "execute_result"
    }
   ],
   "source": [
    "divsv1"
   ]
  },
  {
   "cell_type": "code",
   "execution_count": 86,
   "id": "8a25abc8",
   "metadata": {},
   "outputs": [
    {
     "data": {
      "text/plain": [
       "[[74.0, 40.0, 18.0, 17.0, 13.0, 6.0, 4.0, 3.0, 2.0, 1.0],\n",
       " [30.0, 21.0, 15.0, 12.0, 9.0, 5.0, 4.0, 3.0, 2.0, 1.0],\n",
       " [31.0, 30.0, 21.0, 13.0, 12.0, 9.0, 8.0, 7.0, 5.0, 4.0, 3.0, 2.0, 1.0],\n",
       " [23.0, 20.0, 17.0, 12.0, 11.0, 9.0, 8.0, 7.0, 6.0, 5.0, 4.0, 3.0, 2.0, 1.0]]"
      ]
     },
     "execution_count": 86,
     "metadata": {},
     "output_type": "execute_result"
    }
   ],
   "source": [
    "divsv2"
   ]
  },
  {
   "cell_type": "code",
   "execution_count": 87,
   "id": "b5884860",
   "metadata": {},
   "outputs": [
    {
     "data": {
      "text/plain": [
       "[[1.0],\n",
       " [50.0, 41.0, 14.0, 13.0, 12.0, 11.0, 8.0, 6.0, 5.0, 4.0, 3.0, 2.0, 1.0],\n",
       " [9.0, 5.0, 4.0, 3.0, 2.0, 1.0],\n",
       " [1.0]]"
      ]
     },
     "execution_count": 87,
     "metadata": {},
     "output_type": "execute_result"
    }
   ],
   "source": [
    "divsv3"
   ]
  },
  {
   "cell_type": "code",
   "execution_count": 65,
   "id": "595d8f00",
   "metadata": {},
   "outputs": [
    {
     "data": {
      "text/plain": [
       "[5.0, 4.0, 11.0, 12.0, 14.0, 41.0, 50.0, 3.0, 13.0, 1.0, 2.0, 8.0, 6.0]"
      ]
     },
     "execution_count": 65,
     "metadata": {},
     "output_type": "execute_result"
    }
   ],
   "source": [
    "[val/dsv3[0][0] for val in dsv3[1]]"
   ]
  }
 ],
 "metadata": {
  "kernelspec": {
   "display_name": "Python 3",
   "language": "python",
   "name": "python3"
  },
  "language_info": {
   "codemirror_mode": {
    "name": "ipython",
    "version": 3
   },
   "file_extension": ".py",
   "mimetype": "text/x-python",
   "name": "python",
   "nbconvert_exporter": "python",
   "pygments_lexer": "ipython3",
   "version": "3.9.12"
  }
 },
 "nbformat": 4,
 "nbformat_minor": 5
}
