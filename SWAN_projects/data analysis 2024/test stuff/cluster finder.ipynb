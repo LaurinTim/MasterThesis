{
 "cells": [
  {
   "cell_type": "code",
   "execution_count": 62,
   "id": "9428ac07",
   "metadata": {},
   "outputs": [],
   "source": [
    "import pandas as pd\n",
    "import numpy as np\n",
    "import matplotlib.pyplot as plt\n",
    "from scipy.ndimage import label, find_objects, center_of_mass\n",
    "from PIL import Image\n",
    "from pathlib import Path"
   ]
  },
  {
   "cell_type": "code",
   "execution_count": 107,
   "id": "e3620a49",
   "metadata": {},
   "outputs": [],
   "source": [
    "def cfinder(filepath, min_size = 5, min_sum = 0, thresh = None):\n",
    "    '''\n",
    "\n",
    "    get all the clusters in a tif file\n",
    "\n",
    "    Parameters\n",
    "    ------------\n",
    "    filepath = path on the eos to the picture file\n",
    "    min_size = 5 the minimum size a cluster has to be\n",
    "    min_sum = 0 the minimum sum of the elements in a cluster\n",
    "    thresh = None the value a pixel need for it to be considered part of a cluster\n",
    "        if thresh == None, thresh is set to the average + 3* the standard deviation of the matrix of the picture\n",
    "        \n",
    "    Pedestal file for CMOS tracker: /eos/experiment/gbar/pgunpc/data/24_06_20/BAU-TRK_exp_100_us_G16_1718873546.147.ped.tif\n",
    "\n",
    "    Returns\n",
    "    ------------\n",
    "    df = dataframe with the columns:\n",
    "        cluster = matrix which contains the cluster shape\n",
    "        pos = position of upper left element of the cluster shape in the matrix of the file\n",
    "        size = number of elements in the cluster\n",
    "        sum = sum of elements in the cluster\n",
    "\n",
    "    '''\n",
    "    mat = np.array(Image.open(Path(filepath)))\n",
    "    thresh = thresh if thresh != None else (np.average(mat) + 3 * np.std(mat))\n",
    "    mat[mat<=thresh] = 0\n",
    "    \n",
    "    ped_clus_pos = [[113, 2401], [125, 1058], [232, 716], [263, 2205], [264, 1435], [318, 1821], [453, 1631], [512, 209], [539, 1986], [545, 2429], [587, 1293], [626, 743], [804, 489], [945, 2079], [953, 2437], [1153, 2388], [1156, 122], [1160, 1621], [1170, 2026], [1192, 1323], [1214, 1985], [1251, 697], [1252, 1249], [1281, 1223], [1312, 1871], [1323, 1374], [1327, 107], [1546, 1426], [1553, 1717], [1574, 72], [1608, 2204], [1624, 1409], [1628, 1170], [1673, 1099], [1674, 2270], [1687, 658], [1763, 1307], [1764, 1632], [1880, 147], [1918, 1977], [2036, 1998]]\n",
    "    for i in ped_clus_pos:\n",
    "        mat[i[0],i[1]] = 0\n",
    "\n",
    "    clus = []\n",
    "    pos = []\n",
    "    size = []\n",
    "    tot = []\n",
    "\n",
    "    struc = np.array([[1,1,1],[1,1,1],[1,1,1]]) * 0.1\n",
    "    mat_labeled, num = label(mat, structure = struc)\n",
    "    clust_slices = find_objects(mat_labeled)\n",
    "\n",
    "    for i in range(num):\n",
    "        temp_clus = mat[clust_slices[i]]\n",
    "        temp_lab = mat_labeled[clust_slices[i]].tolist()\n",
    "        temp_lab = [[val if val == i + 1 else 0 for val in bal] for bal in temp_lab]\n",
    "        temp_size = len([val for bal in temp_lab for val in bal if val == i + 1])\n",
    "        temp_tot = sum(sum(temp_clus))\n",
    "        if temp_size >= min_size and temp_tot >= min_sum:\n",
    "            size += [int(temp_size)]\n",
    "            clus += [temp_clus.tolist()]\n",
    "            pos += [[clust_slices[i][0].start, clust_slices[i][1].start]]\n",
    "            tot += [temp_tot]\n",
    "\n",
    "    df = pd.DataFrame([clus,pos,size,tot], index = ['cluster', 'pos', 'size', 'sum']).transpose()\n",
    "\n",
    "    return df"
   ]
  },
  {
   "cell_type": "code",
   "execution_count": 108,
   "id": "feaacfcb",
   "metadata": {},
   "outputs": [],
   "source": [
    "pedf = '/eos/experiment/gbar/pgunpc/data/24_06_20/BAU-TRK_exp_100_us_G16_1718873546.147.ped.tif'\n",
    "nf = '/eos/experiment/gbar/pgunpc/data/24_06_20/BAU-TRK_exp_100_us_G16_1718873349.625.tif'\n",
    "\n",
    "ped_cl = cfinder(pedf, min_size = 1, min_sum = 0, thresh = 220)\n",
    "n_cl = cfinder(nf, min_size = 1, min_sum = 0, thresh = 200)\n",
    "\n",
    "parr = np.array(Image.open(pedf))\n",
    "narr = np.array(Image.open(nf))"
   ]
  },
  {
   "cell_type": "code",
   "execution_count": 106,
   "id": "e01646cc",
   "metadata": {},
   "outputs": [
    {
     "data": {
      "text/plain": [
       "281"
      ]
     },
     "execution_count": 106,
     "metadata": {},
     "output_type": "execute_result"
    }
   ],
   "source": [
    "len(n_cl)"
   ]
  },
  {
   "cell_type": "code",
   "execution_count": 109,
   "id": "7fb98377",
   "metadata": {},
   "outputs": [
    {
     "data": {
      "text/plain": [
       "242"
      ]
     },
     "execution_count": 109,
     "metadata": {},
     "output_type": "execute_result"
    }
   ],
   "source": [
    "len(n_cl)"
   ]
  },
  {
   "cell_type": "code",
   "execution_count": 52,
   "id": "511e62e5",
   "metadata": {},
   "outputs": [
    {
     "data": {
      "text/plain": [
       "(10.386380264182495, 4.196929450567018, 10.621896182789522, 22.81116964487355)"
      ]
     },
     "execution_count": 52,
     "metadata": {},
     "output_type": "execute_result"
    }
   ],
   "source": [
    "np.average(parr), np.std(parr), np.average(narr), np.std(narr)"
   ]
  },
  {
   "cell_type": "code",
   "execution_count": 54,
   "id": "6cffa1a0",
   "metadata": {},
   "outputs": [
    {
     "data": {
      "text/plain": [
       "(4094, 4094)"
      ]
     },
     "execution_count": 54,
     "metadata": {},
     "output_type": "execute_result"
    }
   ],
   "source": [
    "max([val for bal in parr for val in bal]), max([val for bal in narr for val in bal])"
   ]
  },
  {
   "cell_type": "code",
   "execution_count": 56,
   "id": "fa85abb1",
   "metadata": {},
   "outputs": [
    {
     "data": {
      "text/plain": [
       "1252.5102124183006"
      ]
     },
     "execution_count": 56,
     "metadata": {},
     "output_type": "execute_result"
    }
   ],
   "source": [
    "np.argmax([val for bal in parr for val in bal])/len(parr[0])"
   ]
  },
  {
   "cell_type": "code",
   "execution_count": 58,
   "id": "495de240",
   "metadata": {},
   "outputs": [
    {
     "data": {
      "text/plain": [
       "1249"
      ]
     },
     "execution_count": 58,
     "metadata": {},
     "output_type": "execute_result"
    }
   ],
   "source": [
    "np.argmax(parr[1252])"
   ]
  },
  {
   "cell_type": "code",
   "execution_count": 90,
   "id": "6b86bac1",
   "metadata": {},
   "outputs": [
    {
     "data": {
      "text/plain": [
       "(5013504, 41)"
      ]
     },
     "execution_count": 90,
     "metadata": {},
     "output_type": "execute_result"
    }
   ],
   "source": [
    "len([val for bal in parr for val in bal])"
   ]
  },
  {
   "cell_type": "code",
   "execution_count": 87,
   "id": "c71d8cb5",
   "metadata": {},
   "outputs": [
    {
     "data": {
      "text/plain": [
       "2"
      ]
     },
     "execution_count": 87,
     "metadata": {},
     "output_type": "execute_result"
    }
   ],
   "source": [
    "int(ped_cl.iloc[0]['size']) + int(ped_cl.iloc[1]['size'])"
   ]
  },
  {
   "cell_type": "code",
   "execution_count": 36,
   "id": "eeb390cb",
   "metadata": {},
   "outputs": [
    {
     "data": {
      "text/plain": [
       "<matplotlib.image.AxesImage at 0x7f9e452cefd0>"
      ]
     },
     "execution_count": 36,
     "metadata": {},
     "output_type": "execute_result"
    },
    {
     "data": {
      "image/png": "[encoded data removed]",
      "text/plain": [
       "<Figure size 1440x1440 with 1 Axes>"
      ]
     },
     "metadata": {
      "needs_background": "light"
     },
     "output_type": "display_data"
    }
   ],
   "source": [
    "Im = Image.open('/eos/experiment/gbar/pgunpc/data/24_06_20/BAU-TRK_exp_100_us_G16_1718873546.147.ped.tif')\n",
    "arr = np.array(Im)\n",
    "fig = plt.figure(figsize = (20,20))\n",
    "plt.imshow(arr, cmap = 'hot')"
   ]
  },
  {
   "cell_type": "code",
   "execution_count": 38,
   "id": "3b6b38b2",
   "metadata": {},
   "outputs": [
    {
     "data": {
      "text/plain": [
       "4.196929450567018"
      ]
     },
     "execution_count": 38,
     "metadata": {},
     "output_type": "execute_result"
    }
   ],
   "source": [
    "np.average(arr), np.std(arr)"
   ]
  },
  {
   "cell_type": "code",
   "execution_count": 65,
   "id": "b8f829f8",
   "metadata": {},
   "outputs": [],
   "source": [
    "tst = cfinder('/eos/experiment/gbar/pgunpc/data/24_06_20/BAU-TRK_exp_100_us_G16_1718873349.625.tif', min_size = 1, thresh = 220)\n",
    "tstarr = np.array(Image.open('/eos/experiment/gbar/pgunpc/data/24_06_20/BAU-TRK_exp_100_us_G16_1718873349.625.tif'))"
   ]
  },
  {
   "cell_type": "code",
   "execution_count": 103,
   "id": "ba06944e",
   "metadata": {},
   "outputs": [
    {
     "data": {
      "text/plain": [
       "array([[20,  1,  1, ..., 15,  1,  1],\n",
       "       [18,  5, 28, ..., 12,  3,  1],\n",
       "       [12,  1,  5, ...,  8, 16,  5],\n",
       "       ...,\n",
       "       [31,  1,  1, ..., 11,  1, 25],\n",
       "       [18, 11, 22, ..., 20,  1, 16],\n",
       "       [ 1, 18, 28, ..., 17, 18,  1]], dtype=uint16)"
      ]
     },
     "execution_count": 103,
     "metadata": {},
     "output_type": "execute_result"
    }
   ],
   "source": [
    "narr"
   ]
  },
  {
   "cell_type": "code",
   "execution_count": 92,
   "id": "d0e43730",
   "metadata": {},
   "outputs": [
    {
     "name": "stdout",
     "output_type": "stream",
     "text": [
      "219 -8\n",
      "332 -13\n",
      "796 12\n",
      "208 -18\n",
      "235 9\n",
      "999 244\n",
      "451 56\n",
      "460 -11\n",
      "654 179\n",
      "286 -79\n",
      "536 74\n",
      "275 -3\n",
      "302 -81\n",
      "527 -19\n",
      "438 -40\n",
      "2504 550\n",
      "702 46\n",
      "172 -75\n",
      "337 -2\n",
      "322 100\n",
      "841 75\n",
      "264 25\n",
      "4094 0\n",
      "421 19\n",
      "679 94\n",
      "331 20\n",
      "266 35\n",
      "348 74\n",
      "361 -56\n",
      "282 44\n",
      "268 -41\n",
      "413 2\n",
      "965 -54\n",
      "299 28\n",
      "249 14\n",
      "233 -17\n",
      "271 -69\n",
      "504 -20\n",
      "200 -44\n",
      "443 66\n",
      "340 6\n"
     ]
    }
   ],
   "source": [
    "for i in range(len(ped_cl)):\n",
    "    temp_val = narr[ped_cl.pos[i][0], ped_cl.pos[i][1]]\n",
    "    print(temp_val, temp_val - ped_cl.iloc[i]['sum'])"
   ]
  },
  {
   "cell_type": "code",
   "execution_count": 75,
   "id": "7cec92fd",
   "metadata": {},
   "outputs": [
    {
     "data": {
      "text/plain": [
       "[[113, 2401],\n",
       " [125, 1058],\n",
       " [232, 716],\n",
       " [263, 2205],\n",
       " [264, 1435],\n",
       " [318, 1821],\n",
       " [453, 1631],\n",
       " [512, 209],\n",
       " [539, 1986],\n",
       " [545, 2429],\n",
       " [587, 1293],\n",
       " [626, 743],\n",
       " [804, 489],\n",
       " [945, 2079],\n",
       " [953, 2437],\n",
       " [1153, 2388],\n",
       " [1156, 122],\n",
       " [1160, 1621],\n",
       " [1170, 2026],\n",
       " [1192, 1323],\n",
       " [1214, 1985],\n",
       " [1251, 697],\n",
       " [1252, 1249],\n",
       " [1281, 1223],\n",
       " [1312, 1871],\n",
       " [1323, 1374],\n",
       " [1327, 107],\n",
       " [1546, 1426],\n",
       " [1553, 1717],\n",
       " [1574, 72],\n",
       " [1608, 2204],\n",
       " [1624, 1409],\n",
       " [1628, 1170],\n",
       " [1673, 1099],\n",
       " [1674, 2270],\n",
       " [1687, 658],\n",
       " [1763, 1307],\n",
       " [1764, 1632],\n",
       " [1880, 147],\n",
       " [1918, 1977],\n",
       " [2036, 1998]]"
      ]
     },
     "execution_count": 75,
     "metadata": {},
     "output_type": "execute_result"
    }
   ],
   "source": [
    "list(ped_cl.pos)"
   ]
  }
 ],
 "metadata": {
  "kernelspec": {
   "display_name": "Python 3",
   "language": "python",
   "name": "python3"
  },
  "language_info": {
   "codemirror_mode": {
    "name": "ipython",
    "version": 3
   },
   "file_extension": ".py",
   "mimetype": "text/x-python",
   "name": "python",
   "nbconvert_exporter": "python",
   "pygments_lexer": "ipython3",
   "version": "3.9.12"
  }
 },
 "nbformat": 4,
 "nbformat_minor": 5
}
