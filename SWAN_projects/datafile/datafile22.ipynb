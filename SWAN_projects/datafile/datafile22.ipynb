{
 "cells": [
  {
   "cell_type": "code",
   "execution_count": 1,
   "id": "b694a176",
   "metadata": {},
   "outputs": [],
   "source": [
    "from pathlib import Path\n",
    "import numpy as np\n",
    "import pandas as pd\n",
    "#pd.set_option('display.max_columns', None)"
   ]
  },
  {
   "cell_type": "code",
   "execution_count": 11,
   "id": "f765fc11",
   "metadata": {},
   "outputs": [
    {
     "name": "stderr",
     "output_type": "stream",
     "text": [
      "/tmp/ipykernel_1443/17067300.py:2: DtypeWarning: Columns (113,114,115,116,117,118,123,124,125,126,127) have mixed types. Specify dtype option on import or set low_memory=False.\n",
      "  data = pd.read_csv('/eos/experiment/gbar/datasummary/datafile.txt', delimiter = '\\t')\n"
     ]
    }
   ],
   "source": [
    "path = Path('/eos/experiment/gbar/datasummary/datafile.txt')\n",
    "data = pd.read_csv('/eos/experiment/gbar/datasummary/datafile.txt', delimiter = '\\t')"
   ]
  },
  {
   "cell_type": "code",
   "execution_count": 26,
   "id": "aebf1881",
   "metadata": {},
   "outputs": [
    {
     "data": {
      "text/plain": [
       "array(['Timestamp', 'ELENA_Intensity', 'SEM5020_gaussAmp_horizontal',\n",
       "       'SEM5020_gaussAmp_vertical', 'SEM5020_gaussMean_horizontal',\n",
       "       'SEM5020_gaussMean_vertical', 'SEM5020_gaussSig_horizontal',\n",
       "       'SEM5020_gaussSig_vertical', 'SEM5060_gaussAmp_horizontal',\n",
       "       'SEM5060_gaussAmp_vertical', 'SEM5060_gaussMean_horizontal',\n",
       "       'SEM5060_gaussMean_vertical', 'SEM5060_gaussSig_horizontal',\n",
       "       'SEM5060_gaussSig_vertical', 'valv_pos', 'mcp_pos', 'i_beam', 'wf',\n",
       "       'amp_FC', 'amp_RC', 'amp_SWY', 'sum_pco', 'I_focus', 'uhf_read',\n",
       "       'is_pressure', 'u_beam', 'u_focus', 'input1', 'input2',\n",
       "       'u_beam_set', 'u_focus_set', 'uhf_set', 'gas_inlet_set', 'el_pg1',\n",
       "       'el_pg2', 'el_pg3', 'wf_pos', 'wf_neg', 'qb_pos', 'qb_neg',\n",
       "       'chop_neg', 'el_tl1', 'el_tl2', 'st_dec_up', 'st_dec_dw',\n",
       "       'st_dec_le', 'st_dec_ri', 'st_tl_up', 'st_tl_dw', 'st_tl_le',\n",
       "       'st_tl_ri', 'el_ion1', 'el_ion2', 'el_ion3', 'st_ion_up',\n",
       "       'st_ion_dw', 'st_ion_le', 'st_ion_ri', 'el_rc', 'st_rc1_up',\n",
       "       'st_rc1_dw', 'st_rc1_le', 'st_rc1_ri', 'st_rc2_up', 'st_rc2_dw',\n",
       "       'st_rc2_le', 'st_rc2_ri', 'st_rc3_up', 'st_rc3_dw', 'st_rc3_le',\n",
       "       'st_rc3_ri', 'qt_1pos', 'qt_1neg', 'qt_2pos', 'qt_2neg', 'qt_3pos',\n",
       "       'qt_3neg', 'swy1', 'swy2', 'swy3', 'swy4', 'el_swy', 'phos_ion',\n",
       "       'mcp_ion', 'phos_rc', 'mcp_rc', 'phos_swy', 'mcp_swy', 'defl',\n",
       "       'qnch_pos', 'qnch_neg', 'pr_h', 'pr_qb', 'pr_rc', 'pr_mw',\n",
       "       'pr_swy', 'pr_lya', 'H_offset', 'target', 'delay_A', 'delay_B',\n",
       "       'delay_C', 'delay_E', 'delay_G', 'Waveform_12bit', 'DRS4', 'MCP6',\n",
       "       'BEAM_Stopper', 'Datetime', 'positron_fit', 'Positron_CH2', 'FLAG',\n",
       "       'RUN', 'MCP3', 'MCP2', 'MCP1', 'MCP7', 'CMOS_Tracker', 'MCP5',\n",
       "       'Positron_CH1', 'Positron_CH3', 'Positron_CH4', 'SD', 'LyA_CH1',\n",
       "       'LyA_CH2', 'LyA_CH3', 'LyA_CH4', 'SD_LyA', 'Time'], dtype=object)"
      ]
     },
     "execution_count": 26,
     "metadata": {},
     "output_type": "execute_result"
    }
   ],
   "source": [
    "data.columns.values"
   ]
  },
  {
   "cell_type": "code",
   "execution_count": 12,
   "id": "3736492b",
   "metadata": {},
   "outputs": [],
   "source": [
    "data.insert(0,'Date', [val[:10] for val in data['Datetime']])"
   ]
  },
  {
   "cell_type": "code",
   "execution_count": 37,
   "id": "40592840",
   "metadata": {},
   "outputs": [
    {
     "data": {
      "text/plain": [
       "Date             \n",
       "2022-10-29  6282     /eos/experiment/gbar/rcpc/data/22_10_29/PCO-Re...\n",
       "            6283     /eos/experiment/gbar/rcpc/data/22_10_29/PCO-Re...\n",
       "            6284     /eos/experiment/gbar/rcpc/data/22_10_29/PCO-Re...\n",
       "            6285     /eos/experiment/gbar/rcpc/data/22_10_29/PCO-Re...\n",
       "            6286     /eos/experiment/gbar/rcpc/data/22_10_29/PCO-Re...\n",
       "                                           ...                        \n",
       "2022-11-09  11963    /eos/experiment/gbar/rcpc/data/22_11_09/PCO-Re...\n",
       "            11964    /eos/experiment/gbar/rcpc/data/22_11_09/PCO-Re...\n",
       "            11965    /eos/experiment/gbar/rcpc/data/22_11_09/PCO-Re...\n",
       "            11966    /eos/experiment/gbar/rcpc/data/22_11_09/PCO-Re...\n",
       "            11977    /eos/experiment/gbar/rcpc/data/22_11_09/PCO-Re...\n",
       "Name: MCP5, Length: 75, dtype: object"
      ]
     },
     "execution_count": 37,
     "metadata": {},
     "output_type": "execute_result"
    }
   ],
   "source": [
    "#data = data.set_index(['Date', list(data.index)])\n",
    "str(data.MCP5[0]) == 'nan'\n",
    "data[[str(val) != 'nan' for val in data.MCP5]]['MCP5']"
   ]
  },
  {
   "cell_type": "code",
   "execution_count": 38,
   "id": "5a2c4862",
   "metadata": {},
   "outputs": [
    {
     "data": {
      "text/plain": [
       "Date             \n",
       "2022-10-13  0        604019679.0\n",
       "            1        604019679.0\n",
       "            2        604019679.0\n",
       "            3        604019679.0\n",
       "            4        604019679.0\n",
       "                        ...     \n",
       "2022-12-05  23001    605592519.0\n",
       "            23002    605592519.0\n",
       "            23003    605592519.0\n",
       "            23004    605592519.0\n",
       "            23005    605592519.0\n",
       "Name: valv_pos, Length: 23006, dtype: float64"
      ]
     },
     "execution_count": 38,
     "metadata": {},
     "output_type": "execute_result"
    }
   ],
   "source": [
    "data['valv_pos']"
   ]
  },
  {
   "cell_type": "code",
   "execution_count": null,
   "id": "6acea1bd",
   "metadata": {},
   "outputs": [],
   "source": [
    "#valv_pos (21)\n",
    "#mcp_pos (22)\n",
    "#sum\\_pco, I_focus, uhf_read, is_pressure, u_beam, u_focus, input1, input2, u_beam_set, u_focus_set, uhf_set, gas_inlet_set (28 - 39)\n",
    "#EL_pT_in, EL_pT_1, EL_pT_2, EL_pT_3, EL_pT_4, EL_pT_out (40 - 45)\n",
    "#delay_B (114)\n",
    "#mcp_front_bias (118)"
   ]
  }
 ],
 "metadata": {
  "@webio": {
   "lastCommId": null,
   "lastKernelId": null
  },
  "kernelspec": {
   "display_name": "Python 3",
   "language": "python",
   "name": "python3"
  },
  "language_info": {
   "codemirror_mode": {
    "name": "ipython",
    "version": 3
   },
   "file_extension": ".py",
   "mimetype": "text/x-python",
   "name": "python",
   "nbconvert_exporter": "python",
   "pygments_lexer": "ipython3",
   "version": "3.9.12"
  }
 },
 "nbformat": 4,
 "nbformat_minor": 5
}
