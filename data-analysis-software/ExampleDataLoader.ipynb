{
 "cells": [
  {
   "cell_type": "markdown",
   "id": "a4ea42fb",
   "metadata": {},
   "source": [
    "# Run GBAR Data Loader\n",
    "\n",
    "This in an example notebook to get the GBAR data summary files and how to interact with them. The most up to date version is on the gitlab (https://gitlab.cern.ch/GBar/data-analysis-software)."
   ]
  },
  {
   "cell_type": "code",
   "execution_count": 1,
   "id": "fba9edaa",
   "metadata": {},
   "outputs": [],
   "source": [
    "import pandas as pd\n",
    "from gbarDataLoader import loadLog, loadDatafile, loadVIS, loadShortSummary\n",
    "from gbarVisualComparison import compareSwy, compareSwyDRS\n",
    "from datetime import datetime\n",
    "from time import mktime\n",
    "import numpy as np\n",
    "import matplotlib.pyplot as plt\n",
    "import matplotlib.dates as mdates\n",
    "from tqdm import tqdm\n",
    "loadVIS()"
   ]
  },
  {
   "cell_type": "markdown",
   "id": "2f142a91",
   "metadata": {},
   "source": [
    "Enter the date you want to analyse the data. You can enter multiple dates after each other. Once you have selected the date press **ENTER** to stop.\n",
    "\n",
    "You can get following files:\n",
    "- Log: parameters of the GBAR experiment that were logged during the day\n",
    "- ELENA: pbar intensity of ELENA and the SEM profiles\n",
    "- Datafile: all of the ELENA files combined with the data files of GBAR\n",
    "- ShortSummary: shortened summary of the Datafile (sufficient for most cases)"
   ]
  },
  {
   "cell_type": "code",
   "execution_count": null,
   "id": "7db00f46",
   "metadata": {
    "scrolled": false
   },
   "outputs": [],
   "source": [
    "date = 0\n",
    "logFile = pd.DataFrame()\n",
    "shortData = pd.DataFrame()\n",
    "longData = pd.DataFrame()\n",
    "while True:\n",
    "    date2an = input('Enter measurement date [yy_mm_dd]: \\n')\n",
    "    if not date2an:\n",
    "        break\n",
    "    date = date2an\n",
    "    log = loadLog(date2an)            \n",
    "    logFile = pd.concat([logFile, log], axis=0)\n",
    "    long = loadDatafile(date2an)\n",
    "    longData = pd.concat([longData, long], axis=0)\n",
    "    short = loadShortSummary(date2an)\n",
    "    shortData = pd.concat([shortData, short], axis=0)"
   ]
  },
  {
   "cell_type": "code",
   "execution_count": null,
   "id": "89219cc9",
   "metadata": {},
   "outputs": [],
   "source": [
    "shortData.shape"
   ]
  },
  {
   "cell_type": "code",
   "execution_count": null,
   "id": "e88d1412",
   "metadata": {},
   "outputs": [],
   "source": [
    "shortData['st_rc3_ri']"
   ]
  },
  {
   "cell_type": "markdown",
   "id": "30f992c0",
   "metadata": {},
   "source": [
    "You can check what the data you selected looks like in histograms."
   ]
  },
  {
   "cell_type": "code",
   "execution_count": null,
   "id": "c4075b88",
   "metadata": {},
   "outputs": [],
   "source": [
    "longData[{'SEM5020_gaussMean_horizontal', 'SEM5020_gaussMean_vertical',\n",
    "          'SEM5060_gaussMean_horizontal', 'SEM5060_gaussMean_vertical',}].hist(bins=15, figsize=(15,15));"
   ]
  },
  {
   "cell_type": "code",
   "execution_count": null,
   "id": "cf4b9702",
   "metadata": {},
   "outputs": [],
   "source": [
    "t1 = input('Start time of interest: [hhmm] ')\n",
    "t2 = input('End time of interest: [hhmm] ')\n",
    "\n",
    "t1 = int(mktime(datetime(int('20'+date[0:2]),int(date[3:5]),int(date[6:8]), int(t1[0:2]), int(t1[2:4])).timetuple()))\n",
    "t2 = int(mktime(datetime(int('20'+date[0:2]),int(date[3:5]),int(date[6:8]), int(t2[0:2]), int(t2[2:4])).timetuple()))\n",
    "\n",
    "longData[(longData['Timestamp'] > t1) & (longData['Timestamp'] < t2)][{'SEM5020_gaussMean_horizontal', 'SEM5020_gaussMean_vertical',\n",
    "          'SEM5060_gaussMean_horizontal', 'SEM5060_gaussMean_vertical'}].hist(figsize=(15,15));"
   ]
  },
  {
   "cell_type": "code",
   "execution_count": null,
   "id": "ce2ab5eb",
   "metadata": {},
   "outputs": [],
   "source": [
    "longData.plot.scatter(x='Datetime', y='SEM5020_gaussMean_horizontal'); plt.xticks(rotation=90);\n",
    "longData.plot.scatter(x='Datetime', y='SEM5020_gaussMean_vertical'); plt.xticks(rotation=90);\n",
    "longData.plot.scatter(x='Datetime', y='SEM5060_gaussMean_horizontal'); plt.xticks(rotation=90);\n",
    "longData.plot.scatter(x='Datetime', y='SEM5060_gaussMean_vertical'); plt.xticks(rotation=90);"
   ]
  },
  {
   "cell_type": "markdown",
   "id": "fb46ee77",
   "metadata": {},
   "source": [
    "It is of interest to know when we took measurements with the MCP. Add or remove MCPs of interest in the next cell."
   ]
  },
  {
   "cell_type": "code",
   "execution_count": null,
   "id": "e4bf6630",
   "metadata": {},
   "outputs": [],
   "source": [
    "time  =[datetime.fromtimestamp(entry) for entry in shortData['Timestamp']]\n",
    "#mcp3 = [1 if pd.isna(entry) != True else None for entry in shortData['MCP3']]\n",
    "#mcp5 = [1.1 if pd.isna(entry) != True else None for entry in shortData['MCP5']]\n",
    "mcp6 = [1.2 if pd.isna(entry) != True else None for entry in shortData['MCP6']]\n",
    "#mcp7 = [1.3 if pd.isna(entry) != True else None for entry in shortData['MCP7']]\n",
    "wf = [-1.1 if pd.isna(entry) != True else None for entry in shortData['Waveform_12bit']]\n",
    "drs = [1.4 if pd.isna(entry) != True else None for entry in shortData['DRS4']]"
   ]
  },
  {
   "cell_type": "code",
   "execution_count": 5,
   "id": "d64d1b09",
   "metadata": {},
   "outputs": [
    {
     "data": {
      "image/png": "[encoded data removed]",
      "text/plain": [
       "<Figure size 720x720 with 1 Axes>"
      ]
     },
     "metadata": {
      "needs_background": "light"
     },
     "output_type": "display_data"
    }
   ],
   "source": [
    "#%matplotlib ipympl\n",
    "plt.figure(figsize=(10,10))\n",
    "ax=plt.gca()\n",
    "xfmt = mdates.DateFormatter('%d.%m %H:%M')\n",
    "ax.xaxis.set_major_formatter(xfmt)\n",
    "ax.axes.get_yaxis().set_visible(False)\n",
    "#plt.scatter(time,mcp3, label='MCP3')\n",
    "#plt.scatter(time,mcp5, label='MCP5')\n",
    "plt.scatter(time,mcp6, label='MCP6', color='dodgerblue')\n",
    "#plt.scatter(time,mcp7, label='MCP7')\n",
    "plt.scatter(time,drs, label='DRS4', color='darkorange')\n",
    "plt.scatter(time,wf, label='Waveform_12bit', color='limegreen')\n",
    "plt.xticks(rotation=45) \n",
    "plt.legend(loc='best')\n",
    "plt.ylim([-2,2])\n",
    "plt.show()"
   ]
  },
  {
   "cell_type": "markdown",
   "id": "01f3acb3",
   "metadata": {},
   "source": [
    "You can compare the wavefrom with the corresponding MCP picture."
   ]
  },
  {
   "cell_type": "code",
   "execution_count": null,
   "id": "f59b084e",
   "metadata": {},
   "outputs": [],
   "source": [
    "day0 = input('Start day: [dd]')\n",
    "day1 = input('End day: [dd]')\n",
    "t1 = input('Start time of interest: [hhmm] ')\n",
    "t2 = input('End time of interest: [hhmm] ')\n",
    "\n",
    "t1 = int(mktime(datetime(int('20'+date[0:2]),int(date[3:5]),int(day0), int(t1[0:2]), int(t1[2:4])).timetuple()))\n",
    "t2 = int(mktime(datetime(int('20'+date[0:2]),int(date[3:5]),int(day1), int(t2[0:2]), int(t2[2:4])).timetuple()))\n",
    "\n",
    "selection = shortData[(shortData['Timestamp'] >= t1) & (shortData['Timestamp'] < t2)].reset_index()"
   ]
  },
  {
   "cell_type": "code",
   "execution_count": 3,
   "id": "0ec0976c",
   "metadata": {
    "scrolled": true
   },
   "outputs": [
    {
     "ename": "NameError",
     "evalue": "name 'tqdm' is not defined",
     "output_type": "error",
     "traceback": [
      "\u001b[0;31m---------------------------------------------------------------------------\u001b[0m",
      "\u001b[0;31mNameError\u001b[0m                                 Traceback (most recent call last)",
      "\u001b[0;32m/tmp/ipykernel_2724/43137988.py\u001b[0m in \u001b[0;36m<module>\u001b[0;34m\u001b[0m\n\u001b[0;32m----> 1\u001b[0;31m \u001b[0;32mfor\u001b[0m \u001b[0mitem\u001b[0m \u001b[0;32min\u001b[0m \u001b[0mtqdm\u001b[0m\u001b[0;34m(\u001b[0m\u001b[0mrange\u001b[0m\u001b[0;34m(\u001b[0m\u001b[0mselection\u001b[0m\u001b[0;34m.\u001b[0m\u001b[0mshape\u001b[0m\u001b[0;34m[\u001b[0m\u001b[0;36m0\u001b[0m\u001b[0;34m]\u001b[0m\u001b[0;34m)\u001b[0m\u001b[0;34m)\u001b[0m\u001b[0;34m:\u001b[0m\u001b[0;34m\u001b[0m\u001b[0;34m\u001b[0m\u001b[0m\n\u001b[0m\u001b[1;32m      2\u001b[0m     \u001b[0;32mif\u001b[0m \u001b[0mselection\u001b[0m\u001b[0;34m[\u001b[0m\u001b[0;34m'ELENA_Intensity'\u001b[0m\u001b[0;34m]\u001b[0m\u001b[0;34m[\u001b[0m\u001b[0mitem\u001b[0m\u001b[0;34m]\u001b[0m \u001b[0;34m>\u001b[0m \u001b[0;36m5\u001b[0m \u001b[0;32mand\u001b[0m \u001b[0mpd\u001b[0m\u001b[0;34m.\u001b[0m\u001b[0misna\u001b[0m\u001b[0;34m(\u001b[0m\u001b[0mselection\u001b[0m\u001b[0;34m[\u001b[0m\u001b[0;34m'DRS4'\u001b[0m\u001b[0;34m]\u001b[0m\u001b[0;34m[\u001b[0m\u001b[0mitem\u001b[0m\u001b[0;34m]\u001b[0m\u001b[0;34m)\u001b[0m \u001b[0;34m!=\u001b[0m \u001b[0;32mTrue\u001b[0m\u001b[0;34m:\u001b[0m\u001b[0;34m\u001b[0m\u001b[0;34m\u001b[0m\u001b[0m\n\u001b[1;32m      3\u001b[0m         \u001b[0mtimestamp\u001b[0m \u001b[0;34m=\u001b[0m \u001b[0mselection\u001b[0m\u001b[0;34m[\u001b[0m\u001b[0;34m'Timestamp'\u001b[0m\u001b[0;34m]\u001b[0m\u001b[0;34m[\u001b[0m\u001b[0mitem\u001b[0m\u001b[0;34m]\u001b[0m\u001b[0;34m\u001b[0m\u001b[0;34m\u001b[0m\u001b[0m\n\u001b[1;32m      4\u001b[0m         \u001b[0mmcp6_file\u001b[0m \u001b[0;34m=\u001b[0m \u001b[0mselection\u001b[0m\u001b[0;34m[\u001b[0m\u001b[0;34m'MCP6'\u001b[0m\u001b[0;34m]\u001b[0m\u001b[0;34m[\u001b[0m\u001b[0mitem\u001b[0m\u001b[0;34m]\u001b[0m\u001b[0;34m\u001b[0m\u001b[0;34m\u001b[0m\u001b[0m\n\u001b[1;32m      5\u001b[0m         \u001b[0mdrs_file\u001b[0m \u001b[0;34m=\u001b[0m \u001b[0mselection\u001b[0m\u001b[0;34m[\u001b[0m\u001b[0;34m'DRS4'\u001b[0m\u001b[0;34m]\u001b[0m\u001b[0;34m[\u001b[0m\u001b[0mitem\u001b[0m\u001b[0;34m]\u001b[0m\u001b[0;34m\u001b[0m\u001b[0;34m\u001b[0m\u001b[0m\n",
      "\u001b[0;31mNameError\u001b[0m: name 'tqdm' is not defined"
     ]
    }
   ],
   "source": [
    "for item in tqdm(range(selection.shape[0])):\n",
    "    if selection['ELENA_Intensity'][item] > 5 and pd.isna(selection['DRS4'][item]) != True:\n",
    "        timestamp = selection['Timestamp'][item]\n",
    "        mcp6_file = selection['MCP6'][item]\n",
    "        drs_file = selection['DRS4'][item]\n",
    "        wf_file = selection['Waveform_12bit'][item]\n",
    "        delay_PCO = selection['delay_C'][item]\n",
    "        compareSwyDRS(timestamp,mcp6_file,wf_file, drs_file, delay_PCO)"
   ]
  },
  {
   "cell_type": "code",
   "execution_count": 8,
   "id": "d4811b1f",
   "metadata": {},
   "outputs": [
    {
     "name": "stderr",
     "output_type": "stream",
     "text": [
      "/cvmfs/sft.cern.ch/lcg/views/LCG_100_nxcals/x86_64-centos7-gcc9-opt/lib/python3.8/site-packages/statsmodels/tools/_testing.py:19: FutureWarning: pandas.util.testing is deprecated. Use the functions in the public API at pandas.testing instead.\n",
      "  import pandas.util.testing as tm\n"
     ]
    }
   ],
   "source": [
    "import seaborn as sns"
   ]
  },
  {
   "cell_type": "code",
   "execution_count": 23,
   "id": "eb84004f",
   "metadata": {},
   "outputs": [
    {
     "name": "stdout",
     "output_type": "stream",
     "text": [
      "-122.0 5157.0 -2.354972784040672\n"
     ]
    },
    {
     "data": {
      "application/vnd.jupyter.widget-view+json": {
       "model_id": "39bf02d6ffee4d90b2995cd934fd00a2",
       "version_major": 2,
       "version_minor": 0
      },
      "text/plain": [
       "Canvas(toolbar=Toolbar(toolitems=[('Home', 'Reset original view', 'home', 'home'), ('Back', 'Back to previous …"
      ]
     },
     "metadata": {},
     "output_type": "display_data"
    },
    {
     "ename": "AttributeError",
     "evalue": "module 'matplotlib.pyplot' has no attribute 'heatmap'",
     "output_type": "error",
     "traceback": [
      "\u001b[0;31m---------------------------------------------------------------------------\u001b[0m",
      "\u001b[0;31mAttributeError\u001b[0m                            Traceback (most recent call last)",
      "\u001b[0;32m<ipython-input-23-156f6fef3396>\u001b[0m in \u001b[0;36m<module>\u001b[0;34m\u001b[0m\n\u001b[1;32m      6\u001b[0m \u001b[0mprint\u001b[0m\u001b[0;34m(\u001b[0m\u001b[0mimg\u001b[0m\u001b[0;34m.\u001b[0m\u001b[0mmin\u001b[0m\u001b[0;34m(\u001b[0m\u001b[0;34m)\u001b[0m\u001b[0;34m,\u001b[0m \u001b[0mimg\u001b[0m\u001b[0;34m.\u001b[0m\u001b[0mmax\u001b[0m\u001b[0;34m(\u001b[0m\u001b[0;34m)\u001b[0m\u001b[0;34m,\u001b[0m \u001b[0mimg\u001b[0m\u001b[0;34m.\u001b[0m\u001b[0mmean\u001b[0m\u001b[0;34m(\u001b[0m\u001b[0;34m)\u001b[0m\u001b[0;34m)\u001b[0m\u001b[0;34m\u001b[0m\u001b[0;34m\u001b[0m\u001b[0m\n\u001b[1;32m      7\u001b[0m \u001b[0mplt\u001b[0m\u001b[0;34m.\u001b[0m\u001b[0mfigure\u001b[0m\u001b[0;34m(\u001b[0m\u001b[0;34m)\u001b[0m\u001b[0;34m\u001b[0m\u001b[0;34m\u001b[0m\u001b[0m\n\u001b[0;32m----> 8\u001b[0;31m \u001b[0mplt\u001b[0m\u001b[0;34m.\u001b[0m\u001b[0mheatmap\u001b[0m\u001b[0;34m(\u001b[0m\u001b[0mimg\u001b[0m\u001b[0;34m,\u001b[0m \u001b[0mcmap\u001b[0m\u001b[0;34m=\u001b[0m\u001b[0;34m'vlag'\u001b[0m\u001b[0;34m)\u001b[0m\u001b[0;34m\u001b[0m\u001b[0;34m\u001b[0m\u001b[0m\n\u001b[0m\u001b[1;32m      9\u001b[0m \u001b[0mplt\u001b[0m\u001b[0;34m.\u001b[0m\u001b[0mshow\u001b[0m\u001b[0;34m(\u001b[0m\u001b[0;34m)\u001b[0m\u001b[0;34m\u001b[0m\u001b[0;34m\u001b[0m\u001b[0m\n",
      "\u001b[0;31mAttributeError\u001b[0m: module 'matplotlib.pyplot' has no attribute 'heatmap'"
     ]
    }
   ],
   "source": [
    "%matplotlib ipympl\n",
    "img = np.array(plt.imread(selection.MCP6[0])).astype(float)\n",
    "ped_img = np.array(plt.imread(\"/eos/experiment/gbar/pgunpc/data/22_08_25/PCO-SwY_exp_1_us_1661434703.603.ped.tif\")).astype(float)\n",
    "img -= ped_img\n",
    "\n",
    "print(img.min(), img.max(), img.mean())\n",
    "plt.figure()\n",
    "plt.imshow(img, cmap='vlag')\n",
    "plt.colorbar()\n",
    "plt.show()"
   ]
  },
  {
   "cell_type": "code",
   "execution_count": 20,
   "id": "da82d6f9",
   "metadata": {},
   "outputs": [],
   "source": [
    "from scipy.signal import find_peaks\n",
    "from scipy import stats, optimize, integrate"
   ]
  },
  {
   "cell_type": "code",
   "execution_count": 16,
   "id": "284c91e6",
   "metadata": {},
   "outputs": [],
   "source": [
    "df_peaks = pd.DataFrame()\n"
   ]
  },
  {
   "cell_type": "code",
   "execution_count": 24,
   "id": "bd1fdd4f",
   "metadata": {
    "scrolled": true
   },
   "outputs": [
    {
     "name": "stderr",
     "output_type": "stream",
     "text": [
      "100%|██████████| 294/294 [00:04<00:00, 71.53it/s] \n"
     ]
    }
   ],
   "source": [
    "for item in tqdm(range(selection.shape[0])):\n",
    "\n",
    "    if selection['ELENA_Intensity'][item] > 5:\n",
    "        timestamp = selection.Timestamp[item]\n",
    "        file = selection.DRS4[item]\n",
    "\n",
    "        if pd.isna(file) == False:\n",
    "            drs = pd.read_csv(file, sep='\\t')\n",
    "\n",
    "            peaks1, properties1 = find_peaks(-drs.Channel1[100:], height=-0.15, distance=80)\n",
    "            peaks2, properties2 = find_peaks(-drs.Channel2[100:], height=-0.15, distance=80)\n",
    "            peaks3, properties3 = find_peaks(-drs.Channel3[100:], height=-0.15, distance=80)\n",
    "            peaks4, properties4 = find_peaks(-drs.Channel4[100:], height=-0.15, distance=80)\n",
    "            peaks5, properties5 = find_peaks(-drs.Channel5[100:], height=-0.15, distance=80)\n",
    "\n",
    "\n",
    "            df1 = pd.DataFrame({'Peaks1':peaks1, 'Heights1':properties1['peak_heights']})\n",
    "            df2 = pd.DataFrame({'Peaks2':peaks2, 'Heights2':properties2['peak_heights']})\n",
    "            df3 = pd.DataFrame({'Peaks3':peaks3, 'Heights3':properties3['peak_heights']})\n",
    "            df4 = pd.DataFrame({'Peaks4':peaks4, 'Heights4':properties4['peak_heights']})\n",
    "            df5 = pd.DataFrame({'Peaks5':peaks5, 'Heights5':properties5['peak_heights']})\n",
    "\n",
    "            size = max(df1.shape[0],df2.shape[0],df3.shape[0],df4.shape[0],df5.shape[0])\n",
    "            time = [timestamp for i in range(size)]\n",
    "            dft = pd.DataFrame({'Time': time})\n",
    "            #df = pd.concat([dft,df1,df2,df3,df4,df5], axis=1)\n",
    "            #print(df)\n",
    "            df_peaks = pd.concat([df_peaks, pd.concat([dft,df1,df2,df3,df4,df5], axis=1)], ignore_index=True)"
   ]
  },
  {
   "cell_type": "code",
   "execution_count": 25,
   "id": "b076fe81",
   "metadata": {},
   "outputs": [
    {
     "data": {
      "image/png": "[encoded data removed]",
      "text/plain": [
       "<Figure size 1080x1080 with 12 Axes>"
      ]
     },
     "metadata": {
      "needs_background": "light"
     },
     "output_type": "display_data"
    }
   ],
   "source": [
    "df_peaks.hist(figsize=(15,15));"
   ]
  },
  {
   "cell_type": "code",
   "execution_count": null,
   "id": "badc1cd0",
   "metadata": {},
   "outputs": [],
   "source": []
  },
  {
   "cell_type": "code",
   "execution_count": null,
   "id": "af1033fd",
   "metadata": {},
   "outputs": [],
   "source": []
  }
 ],
 "metadata": {
  "kernelspec": {
   "display_name": "Python 3",
   "language": "python",
   "name": "python3"
  },
  "language_info": {
   "codemirror_mode": {
    "name": "ipython",
    "version": 3
   },
   "file_extension": ".py",
   "mimetype": "text/x-python",
   "name": "python",
   "nbconvert_exporter": "python",
   "pygments_lexer": "ipython3",
   "version": "3.9.12"
  }
 },
 "nbformat": 4,
 "nbformat_minor": 5
}
